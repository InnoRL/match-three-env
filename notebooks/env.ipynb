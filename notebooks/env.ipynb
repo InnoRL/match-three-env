{
 "cells": [
  {
   "cell_type": "code",
   "execution_count": 1,
   "id": "e9c3e0d4",
   "metadata": {},
   "outputs": [],
   "source": [
    "import sys\n",
    "sys.path.append(\"../src\")\n",
    "\n",
    "\n",
    "import jax"
   ]
  },
  {
   "cell_type": "code",
   "execution_count": 2,
   "id": "86c4a69d",
   "metadata": {},
   "outputs": [
    {
     "data": {
      "text/plain": [
       "EnvParams(max_steps_in_episode=100, grid_params=MatchThreeGameGridParams(num_symbols=4, mask=Array([[0., 0., 0., 0., 0., 0., 0., 0., 0.],\n",
       "       [0., 0., 0., 0., 0., 0., 0., 0., 0.],\n",
       "       [0., 0., 0., 0., 0., 0., 0., 0., 0.],\n",
       "       [0., 0., 0., 0., 0., 0., 0., 0., 0.],\n",
       "       [0., 0., 0., 0., 0., 0., 0., 0., 0.],\n",
       "       [0., 0., 0., 0., 0., 0., 0., 0., 0.],\n",
       "       [0., 0., 0., 0., 0., 0., 0., 0., 0.],\n",
       "       [0., 0., 0., 0., 0., 0., 0., 0., 0.],\n",
       "       [0., 0., 0., 0., 0., 0., 0., 0., 0.]], dtype=float32)), grid_size=(9, 9))"
      ]
     },
     "execution_count": 2,
     "metadata": {},
     "output_type": "execute_result"
    }
   ],
   "source": [
    "from match_three.env import EnvParams, EnvState, MatchThree\n",
    "\n",
    "params = EnvParams()\n",
    "env = MatchThree(params)\n",
    "\n",
    "env.default_params"
   ]
  },
  {
   "cell_type": "code",
   "execution_count": 3,
   "id": "28ebd303",
   "metadata": {},
   "outputs": [
    {
     "data": {
      "text/plain": [
       "MatchThreeGameGridStruct(grid=Array([[1, 1, 3, 1, 4, 2, 4, 3, 4],\n",
       "       [3, 3, 2, 4, 1, 3, 2, 3, 1],\n",
       "       [2, 2, 3, 2, 2, 4, 4, 2, 1],\n",
       "       [2, 4, 1, 3, 3, 1, 1, 4, 4],\n",
       "       [4, 3, 1, 3, 3, 2, 4, 2, 2],\n",
       "       [2, 3, 2, 4, 1, 4, 3, 4, 2],\n",
       "       [4, 1, 3, 1, 1, 4, 3, 1, 4],\n",
       "       [4, 4, 3, 1, 3, 2, 4, 4, 3],\n",
       "       [3, 2, 1, 2, 4, 2, 1, 4, 1]], dtype=int32))"
      ]
     },
     "execution_count": 3,
     "metadata": {},
     "output_type": "execute_result"
    }
   ],
   "source": [
    "key = jax.random.PRNGKey(0)\n",
    "\n",
    "key, subkey = jax.random.split(key)\n",
    "obs, state = env.reset_env(subkey, params)\n",
    "obs"
   ]
  },
  {
   "cell_type": "code",
   "execution_count": 4,
   "id": "9cb2f068",
   "metadata": {},
   "outputs": [
    {
     "name": "stdout",
     "output_type": "stream",
     "text": [
      "Traced<ShapedArray(int32[9,9])>with<DynamicJaxprTrace>\n"
     ]
    },
    {
     "ename": "TypeError",
     "evalue": "while_loop body function carry input and carry output must have the same pytree structure, but they differ:\n\nThe input carry component carry[3] is a <class 'match_three.game_grid.MatchResults'> but the corresponding component of the carry output is a <class 'jax._src.core.ShapedArray'>, so their Python types differ.\n\nRevise the function so that the carry output has the same pytree structure as the carry input.",
     "output_type": "error",
     "traceback": [
      "\u001b[0;31m---------------------------------------------------------------------------\u001b[0m",
      "\u001b[0;31mTypeError\u001b[0m                                 Traceback (most recent call last)",
      "Cell \u001b[0;32mIn[4], line 2\u001b[0m\n\u001b[1;32m      1\u001b[0m key, subkey \u001b[38;5;241m=\u001b[39m jax\u001b[38;5;241m.\u001b[39mrandom\u001b[38;5;241m.\u001b[39msplit(key)\n\u001b[0;32m----> 2\u001b[0m obs, state, reward, done \u001b[38;5;241m=\u001b[39m \u001b[43menv\u001b[49m\u001b[38;5;241;43m.\u001b[39;49m\u001b[43mstep_env\u001b[49m\u001b[43m(\u001b[49m\u001b[43mkey\u001b[49m\u001b[38;5;241;43m=\u001b[39;49m\u001b[43msubkey\u001b[49m\u001b[43m,\u001b[49m\u001b[43m \u001b[49m\u001b[43mstate\u001b[49m\u001b[38;5;241;43m=\u001b[39;49m\u001b[43mstate\u001b[49m\u001b[43m,\u001b[49m\u001b[43m \u001b[49m\u001b[43maction\u001b[49m\u001b[38;5;241;43m=\u001b[39;49m\u001b[43mjax\u001b[49m\u001b[38;5;241;43m.\u001b[39;49m\u001b[43mnumpy\u001b[49m\u001b[38;5;241;43m.\u001b[39;49m\u001b[43masarray\u001b[49m\u001b[43m(\u001b[49m\u001b[43m[\u001b[49m\u001b[38;5;241;43m5\u001b[39;49m\u001b[43m,\u001b[49m\u001b[38;5;241;43m5\u001b[39;49m\u001b[43m,\u001b[49m\u001b[38;5;241;43m0\u001b[39;49m\u001b[43m]\u001b[49m\u001b[43m)\u001b[49m\u001b[43m,\u001b[49m\u001b[43m \u001b[49m\u001b[43mparams\u001b[49m\u001b[38;5;241;43m=\u001b[39;49m\u001b[43mparams\u001b[49m\u001b[43m)\u001b[49m\n\u001b[1;32m      4\u001b[0m obs\n",
      "File \u001b[0;32m/workspaces/match-three-env/notebooks/../src/match_three/env.py:91\u001b[0m, in \u001b[0;36mMatchThree.step_env\u001b[0;34m(self, key, state, action, params)\u001b[0m\n\u001b[1;32m     84\u001b[0m \u001b[38;5;28;01mdef\u001b[39;00m\u001b[38;5;250m \u001b[39m\u001b[38;5;21mstep_env\u001b[39m(\n\u001b[1;32m     85\u001b[0m     \u001b[38;5;28mself\u001b[39m,\n\u001b[1;32m     86\u001b[0m     key: chex\u001b[38;5;241m.\u001b[39mPRNGKey,\n\u001b[0;32m   (...)\u001b[0m\n\u001b[1;32m     89\u001b[0m     params: EnvParams,\n\u001b[1;32m     90\u001b[0m ) \u001b[38;5;241m-\u001b[39m\u001b[38;5;241m>\u001b[39m Tuple[chex\u001b[38;5;241m.\u001b[39mArray, EnvState, jnp\u001b[38;5;241m.\u001b[39mndarray, jnp\u001b[38;5;241m.\u001b[39mndarray, Dict[Any, Any]]:\n\u001b[0;32m---> 91\u001b[0m     grid, matches \u001b[38;5;241m=\u001b[39m \u001b[43mMatchThreeGameGridFunctions\u001b[49m\u001b[38;5;241;43m.\u001b[39;49m\u001b[43mapply_swap\u001b[49m\u001b[43m(\u001b[49m\u001b[43mkey\u001b[49m\u001b[38;5;241;43m=\u001b[39;49m\u001b[43mkey\u001b[49m\u001b[43m,\u001b[49m\u001b[43m \u001b[49m\u001b[43mstate\u001b[49m\u001b[38;5;241;43m=\u001b[39;49m\u001b[43mstate\u001b[49m\u001b[38;5;241;43m.\u001b[39;49m\u001b[43mgrid\u001b[49m\u001b[43m,\u001b[49m\u001b[43m \u001b[49m\u001b[43mparams\u001b[49m\u001b[38;5;241;43m=\u001b[39;49m\u001b[43mparams\u001b[49m\u001b[38;5;241;43m.\u001b[39;49m\u001b[43mgrid_params\u001b[49m\u001b[43m,\u001b[49m\u001b[43m \u001b[49m\u001b[43mgrid_cell\u001b[49m\u001b[38;5;241;43m=\u001b[39;49m\u001b[43maction\u001b[49m\u001b[43m[\u001b[49m\u001b[43m:\u001b[49m\u001b[38;5;241;43m2\u001b[39;49m\u001b[43m]\u001b[49m\u001b[43m,\u001b[49m\u001b[43m \u001b[49m\u001b[43mdirection\u001b[49m\u001b[38;5;241;43m=\u001b[39;49m\u001b[43maction\u001b[49m\u001b[43m[\u001b[49m\u001b[38;5;241;43m2\u001b[39;49m\u001b[43m]\u001b[49m\u001b[43m)\u001b[49m\n\u001b[1;32m     93\u001b[0m     reward \u001b[38;5;241m=\u001b[39m jnp\u001b[38;5;241m.\u001b[39msum(matches)\n\u001b[1;32m     95\u001b[0m     state \u001b[38;5;241m=\u001b[39m EnvState(grid, state\u001b[38;5;241m.\u001b[39mtime \u001b[38;5;241m+\u001b[39m \u001b[38;5;241m1\u001b[39m)\n",
      "File \u001b[0;32m/workspaces/match-three-env/notebooks/../src/match_three/game_grid.py:137\u001b[0m, in \u001b[0;36mMatchThreeGameGridFunctions.apply_swap\u001b[0;34m(key, state, params, grid_cell, direction)\u001b[0m\n\u001b[1;32m    129\u001b[0m \u001b[38;5;66;03m# if true then apply swap and process physics and return MatchResults (this will take exactly CASCADE_MAX_DEPTH steps)\u001b[39;00m\n\u001b[1;32m    130\u001b[0m \u001b[38;5;66;03m# def _true_f_move_is_legal(operand):\u001b[39;00m\n\u001b[1;32m    131\u001b[0m \u001b[38;5;66;03m#     key, state, match_results = operand\u001b[39;00m\n\u001b[1;32m    132\u001b[0m \u001b[38;5;66;03m#     return MatchThreeGameGridFunctions.__process_physics(\u001b[39;00m\n\u001b[1;32m    133\u001b[0m \u001b[38;5;66;03m#         key=key, state=state, match_results=match_results\u001b[39;00m\n\u001b[1;32m    134\u001b[0m \u001b[38;5;66;03m#     )\u001b[39;00m\n\u001b[1;32m    136\u001b[0m match_results \u001b[38;5;241m=\u001b[39m MatchResults\u001b[38;5;241m.\u001b[39minitialize()\n\u001b[0;32m--> 137\u001b[0m key, state, match_results \u001b[38;5;241m=\u001b[39m \u001b[43mjax\u001b[49m\u001b[38;5;241;43m.\u001b[39;49m\u001b[43mlax\u001b[49m\u001b[38;5;241;43m.\u001b[39;49m\u001b[43mcond\u001b[49m\u001b[43m(\u001b[49m\n\u001b[1;32m    138\u001b[0m \u001b[43m    \u001b[49m\u001b[43mmove_is_legal\u001b[49m\u001b[43m,\u001b[49m\n\u001b[1;32m    139\u001b[0m \u001b[43m    \u001b[49m\u001b[38;5;28;43;01mlambda\u001b[39;49;00m\u001b[43m \u001b[49m\u001b[43mx\u001b[49m\u001b[43m:\u001b[49m\u001b[43m \u001b[49m\u001b[43mMatchThreeGameGridFunctions\u001b[49m\u001b[38;5;241;43m.\u001b[39;49m\u001b[43m__process_physics\u001b[49m\u001b[43m(\u001b[49m\u001b[38;5;241;43m*\u001b[39;49m\u001b[43mx\u001b[49m\u001b[43m)\u001b[49m\u001b[43m,\u001b[49m\n\u001b[1;32m    140\u001b[0m \u001b[43m    \u001b[49m\u001b[38;5;28;43;01mlambda\u001b[39;49;00m\u001b[43m \u001b[49m\u001b[43mx\u001b[49m\u001b[43m:\u001b[49m\u001b[43m \u001b[49m\u001b[43m(\u001b[49m\u001b[43mx\u001b[49m\u001b[43m[\u001b[49m\u001b[38;5;241;43m0\u001b[39;49m\u001b[43m]\u001b[49m\u001b[43m,\u001b[49m\u001b[43m \u001b[49m\u001b[43mx\u001b[49m\u001b[43m[\u001b[49m\u001b[38;5;241;43m1\u001b[39;49m\u001b[43m]\u001b[49m\u001b[43m,\u001b[49m\u001b[43m \u001b[49m\u001b[43mx\u001b[49m\u001b[43m[\u001b[49m\u001b[38;5;241;43m3\u001b[39;49m\u001b[43m]\u001b[49m\u001b[43m)\u001b[49m\u001b[43m,\u001b[49m\n\u001b[1;32m    141\u001b[0m \u001b[43m    \u001b[49m\u001b[43m(\u001b[49m\u001b[43mkey\u001b[49m\u001b[43m,\u001b[49m\u001b[43m \u001b[49m\u001b[43mstate\u001b[49m\u001b[43m,\u001b[49m\u001b[43m \u001b[49m\u001b[43mparams\u001b[49m\u001b[43m,\u001b[49m\u001b[43m \u001b[49m\u001b[43mmatch_results\u001b[49m\u001b[43m)\u001b[49m\u001b[43m,\u001b[49m\n\u001b[1;32m    142\u001b[0m \u001b[43m\u001b[49m\u001b[43m)\u001b[49m\n\u001b[1;32m    144\u001b[0m \u001b[38;5;28;01mreturn\u001b[39;00m key, state, match_results\n",
      "    \u001b[0;31m[... skipping hidden 11 frame]\u001b[0m\n",
      "File \u001b[0;32m/workspaces/match-three-env/notebooks/../src/match_three/game_grid.py:139\u001b[0m, in \u001b[0;36mMatchThreeGameGridFunctions.apply_swap.<locals>.<lambda>\u001b[0;34m(x)\u001b[0m\n\u001b[1;32m    129\u001b[0m \u001b[38;5;66;03m# if true then apply swap and process physics and return MatchResults (this will take exactly CASCADE_MAX_DEPTH steps)\u001b[39;00m\n\u001b[1;32m    130\u001b[0m \u001b[38;5;66;03m# def _true_f_move_is_legal(operand):\u001b[39;00m\n\u001b[1;32m    131\u001b[0m \u001b[38;5;66;03m#     key, state, match_results = operand\u001b[39;00m\n\u001b[1;32m    132\u001b[0m \u001b[38;5;66;03m#     return MatchThreeGameGridFunctions.__process_physics(\u001b[39;00m\n\u001b[1;32m    133\u001b[0m \u001b[38;5;66;03m#         key=key, state=state, match_results=match_results\u001b[39;00m\n\u001b[1;32m    134\u001b[0m \u001b[38;5;66;03m#     )\u001b[39;00m\n\u001b[1;32m    136\u001b[0m match_results \u001b[38;5;241m=\u001b[39m MatchResults\u001b[38;5;241m.\u001b[39minitialize()\n\u001b[1;32m    137\u001b[0m key, state, match_results \u001b[38;5;241m=\u001b[39m jax\u001b[38;5;241m.\u001b[39mlax\u001b[38;5;241m.\u001b[39mcond(\n\u001b[1;32m    138\u001b[0m     move_is_legal,\n\u001b[0;32m--> 139\u001b[0m     \u001b[38;5;28;01mlambda\u001b[39;00m x: \u001b[43mMatchThreeGameGridFunctions\u001b[49m\u001b[38;5;241;43m.\u001b[39;49m\u001b[43m__process_physics\u001b[49m\u001b[43m(\u001b[49m\u001b[38;5;241;43m*\u001b[39;49m\u001b[43mx\u001b[49m\u001b[43m)\u001b[49m,\n\u001b[1;32m    140\u001b[0m     \u001b[38;5;28;01mlambda\u001b[39;00m x: (x[\u001b[38;5;241m0\u001b[39m], x[\u001b[38;5;241m1\u001b[39m], x[\u001b[38;5;241m3\u001b[39m]),\n\u001b[1;32m    141\u001b[0m     (key, state, params, match_results),\n\u001b[1;32m    142\u001b[0m )\n\u001b[1;32m    144\u001b[0m \u001b[38;5;28;01mreturn\u001b[39;00m key, state, match_results\n",
      "File \u001b[0;32m/workspaces/match-three-env/notebooks/../src/match_three/game_grid.py:184\u001b[0m, in \u001b[0;36mMatchThreeGameGridFunctions.__process_physics\u001b[0;34m(key, state, params, match_results)\u001b[0m\n\u001b[1;32m    175\u001b[0m     \u001b[38;5;28;01mreturn\u001b[39;00m (\n\u001b[1;32m    176\u001b[0m         key,\n\u001b[1;32m    177\u001b[0m         new_matches,\n\u001b[0;32m   (...)\u001b[0m\n\u001b[1;32m    180\u001b[0m         i \u001b[38;5;241m+\u001b[39m \u001b[38;5;241m1\u001b[39m,\n\u001b[1;32m    181\u001b[0m     )\n\u001b[1;32m    183\u001b[0m init_matches \u001b[38;5;241m=\u001b[39m MatchThreeGameGridFunctions\u001b[38;5;241m.\u001b[39m__find_matches(state\u001b[38;5;241m.\u001b[39mgrid)\n\u001b[0;32m--> 184\u001b[0m key, _, _, match_results, _ \u001b[38;5;241m=\u001b[39m \u001b[43mjax\u001b[49m\u001b[38;5;241;43m.\u001b[39;49m\u001b[43mlax\u001b[49m\u001b[38;5;241;43m.\u001b[39;49m\u001b[43mwhile_loop\u001b[49m\u001b[43m(\u001b[49m\n\u001b[1;32m    185\u001b[0m \u001b[43m    \u001b[49m\u001b[43mcond_fn\u001b[49m\u001b[43m,\u001b[49m\u001b[43m \u001b[49m\u001b[43mbody_fn\u001b[49m\u001b[43m,\u001b[49m\u001b[43m \u001b[49m\u001b[43m(\u001b[49m\u001b[43mkey\u001b[49m\u001b[43m,\u001b[49m\u001b[43m \u001b[49m\u001b[43minit_matches\u001b[49m\u001b[43m,\u001b[49m\u001b[43m \u001b[49m\u001b[43mstate\u001b[49m\u001b[43m,\u001b[49m\u001b[43m \u001b[49m\u001b[43mmatch_results\u001b[49m\u001b[43m,\u001b[49m\u001b[43m \u001b[49m\u001b[38;5;241;43m0\u001b[39;49m\u001b[43m)\u001b[49m\n\u001b[1;32m    186\u001b[0m \u001b[43m\u001b[49m\u001b[43m)\u001b[49m\n\u001b[1;32m    188\u001b[0m \u001b[38;5;28;01mreturn\u001b[39;00m key, state, match_results\n",
      "    \u001b[0;31m[... skipping hidden 2 frame]\u001b[0m\n",
      "File \u001b[0;32m~/.local/lib/python3.10/site-packages/jax/_src/lax/control_flow/loops.py:425\u001b[0m, in \u001b[0;36m_check_carry_type\u001b[0;34m(name, body_fun, in_carry, out_carry_tree, out_avals)\u001b[0m\n\u001b[1;32m    422\u001b[0m     \u001b[38;5;28;01melse\u001b[39;00m:\n\u001b[1;32m    423\u001b[0m       differences \u001b[38;5;241m=\u001b[39m (\u001b[38;5;124m'\u001b[39m\u001b[38;5;130;01m\\n\u001b[39;00m\u001b[38;5;124m'\u001b[39m\u001b[38;5;241m.\u001b[39mjoin(\u001b[38;5;124mf\u001b[39m\u001b[38;5;124m'\u001b[39m\u001b[38;5;124m  * \u001b[39m\u001b[38;5;132;01m{\u001b[39;00md\u001b[38;5;132;01m}\u001b[39;00m\u001b[38;5;124m;\u001b[39m\u001b[38;5;130;01m\\n\u001b[39;00m\u001b[38;5;124m'\u001b[39m \u001b[38;5;28;01mfor\u001b[39;00m d \u001b[38;5;129;01min\u001b[39;00m diffs[:\u001b[38;5;241m-\u001b[39m\u001b[38;5;241m1\u001b[39m])\n\u001b[1;32m    424\u001b[0m                      \u001b[38;5;241m+\u001b[39m \u001b[38;5;124mf\u001b[39m\u001b[38;5;124m'\u001b[39m\u001b[38;5;124m  * \u001b[39m\u001b[38;5;132;01m{\u001b[39;00mdiffs[\u001b[38;5;241m-\u001b[39m\u001b[38;5;241m1\u001b[39m]\u001b[38;5;132;01m}\u001b[39;00m\u001b[38;5;124m.\u001b[39m\u001b[38;5;130;01m\\n\u001b[39;00m\u001b[38;5;124m'\u001b[39m)\n\u001b[0;32m--> 425\u001b[0m   \u001b[38;5;28;01mraise\u001b[39;00m \u001b[38;5;167;01mTypeError\u001b[39;00m(\n\u001b[1;32m    426\u001b[0m       \u001b[38;5;124mf\u001b[39m\u001b[38;5;124m\"\u001b[39m\u001b[38;5;132;01m{\u001b[39;00mname\u001b[38;5;132;01m}\u001b[39;00m\u001b[38;5;124m function carry input and carry output must have the same \u001b[39m\u001b[38;5;124m\"\u001b[39m\n\u001b[1;32m    427\u001b[0m       \u001b[38;5;124m\"\u001b[39m\u001b[38;5;124mpytree structure, but they differ:\u001b[39m\u001b[38;5;130;01m\\n\u001b[39;00m\u001b[38;5;130;01m\\n\u001b[39;00m\u001b[38;5;124m\"\u001b[39m\n\u001b[1;32m    428\u001b[0m       \u001b[38;5;124mf\u001b[39m\u001b[38;5;124m\"\u001b[39m\u001b[38;5;132;01m{\u001b[39;00mdifferences\u001b[38;5;132;01m}\u001b[39;00m\u001b[38;5;130;01m\\n\u001b[39;00m\u001b[38;5;124m\"\u001b[39m\n\u001b[1;32m    429\u001b[0m       \u001b[38;5;124m\"\u001b[39m\u001b[38;5;124mRevise the function so that the carry output has the same pytree \u001b[39m\u001b[38;5;124m\"\u001b[39m\n\u001b[1;32m    430\u001b[0m       \u001b[38;5;124m\"\u001b[39m\u001b[38;5;124mstructure as the carry input.\u001b[39m\u001b[38;5;124m\"\u001b[39m)\n\u001b[1;32m    431\u001b[0m \u001b[38;5;28;01mif\u001b[39;00m \u001b[38;5;129;01mnot\u001b[39;00m \u001b[38;5;28mall\u001b[39m(_map(core\u001b[38;5;241m.\u001b[39mtypematch, in_avals, out_avals)):\n\u001b[1;32m    432\u001b[0m   diffs \u001b[38;5;241m=\u001b[39m [\u001b[38;5;124mf\u001b[39m\u001b[38;5;124m'\u001b[39m\u001b[38;5;132;01m{\u001b[39;00mcomponent(path)\u001b[38;5;132;01m}\u001b[39;00m\u001b[38;5;124m has type \u001b[39m\u001b[38;5;132;01m{\u001b[39;00min_aval\u001b[38;5;241m.\u001b[39mstr_short()\u001b[38;5;132;01m}\u001b[39;00m\u001b[38;5;124m'\u001b[39m\n\u001b[1;32m    433\u001b[0m            \u001b[38;5;124m'\u001b[39m\u001b[38;5;124m but the corresponding output carry component has type \u001b[39m\u001b[38;5;124m'\u001b[39m\n\u001b[1;32m    434\u001b[0m            \u001b[38;5;124mf\u001b[39m\u001b[38;5;124m'\u001b[39m\u001b[38;5;132;01m{\u001b[39;00mout_aval\u001b[38;5;241m.\u001b[39mstr_short()\u001b[38;5;132;01m}\u001b[39;00m\u001b[38;5;132;01m{\u001b[39;00m_aval_mismatch_extra(in_aval,\u001b[38;5;250m \u001b[39mout_aval)\u001b[38;5;132;01m}\u001b[39;00m\u001b[38;5;124m'\u001b[39m\n\u001b[1;32m    435\u001b[0m            \u001b[38;5;28;01mfor\u001b[39;00m path, in_aval, out_aval \u001b[38;5;129;01min\u001b[39;00m \u001b[38;5;28mzip\u001b[39m(paths, in_avals, out_avals)\n\u001b[1;32m    436\u001b[0m            \u001b[38;5;28;01mif\u001b[39;00m \u001b[38;5;129;01mnot\u001b[39;00m core\u001b[38;5;241m.\u001b[39mtypematch(in_aval, out_aval)]\n",
      "\u001b[0;31mTypeError\u001b[0m: while_loop body function carry input and carry output must have the same pytree structure, but they differ:\n\nThe input carry component carry[3] is a <class 'match_three.game_grid.MatchResults'> but the corresponding component of the carry output is a <class 'jax._src.core.ShapedArray'>, so their Python types differ.\n\nRevise the function so that the carry output has the same pytree structure as the carry input."
     ]
    }
   ],
   "source": [
    "key, subkey = jax.random.split(key)\n",
    "obs, state, reward, done = env.step_env(key=subkey, state=state, action=jax.numpy.asarray([5,5,0]), params=params)\n",
    "\n",
    "obs"
   ]
  },
  {
   "cell_type": "code",
   "execution_count": null,
   "id": "88a883ee",
   "metadata": {},
   "outputs": [],
   "source": []
  }
 ],
 "metadata": {
  "kernelspec": {
   "display_name": "Python 3",
   "language": "python",
   "name": "python3"
  },
  "language_info": {
   "codemirror_mode": {
    "name": "ipython",
    "version": 3
   },
   "file_extension": ".py",
   "mimetype": "text/x-python",
   "name": "python",
   "nbconvert_exporter": "python",
   "pygments_lexer": "ipython3",
   "version": "3.10.12"
  }
 },
 "nbformat": 4,
 "nbformat_minor": 5
}
