{
  "cells": [
    {
      "cell_type": "code",
      "execution_count": 116,
      "metadata": {
        "id": "RtpsIW449BMW"
      },
      "outputs": [],
      "source": [
        "import jax\n",
        "import jax.numpy as jnp\n",
        "import matplotlib.pyplot as plt\n",
        "from tqdm import tqdm\n",
        "\n",
        "K_MIN = 4\n",
        "K_MAX = 7\n",
        "D_MAX = 9\n",
        "\n",
        "CASCADE_MAX_DEPTH = 10\n",
        "REGEN_MAX_ITER = 20"
      ]
    },
    {
      "cell_type": "code",
      "execution_count": 117,
      "metadata": {},
      "outputs": [],
      "source": [
        "jax.config.update('jax_platform_name', 'cpu')  # Force CPU-only mode"
      ]
    },
    {
      "cell_type": "code",
      "execution_count": 118,
      "metadata": {},
      "outputs": [],
      "source": [
        "from flax import struct\n",
        "import chex\n",
        "from typing import Tuple, Union\n",
        "\n",
        "\n",
        "@struct.dataclass\n",
        "class MatchResults:\n",
        "    \"\"\"\n",
        "    Match Result is a 3D matrix where:\n",
        "\n",
        "    - Dimension 0: Depth (number of match cascades)\n",
        "    - Dimension 1: Type of matches at that depth (matching 3 in a row, 4, cross etc)\n",
        "    - Dimension 2: Symbol type (e.g., which game pieces matched)\n",
        "\n",
        "    The data type is `int`, compatible with JAX.\n",
        "    \"\"\"\n",
        "\n",
        "    matches: chex.Array  # Shape: (depth, num_matches_per_depth, symbol_type)\n",
        "\n",
        "    def initialize(grid_shape: Tuple, num_symbols: int) -> \"MatchResults\":\n",
        "        # TODO: calculate max max_possible_matches properly\n",
        "        max_possible_matches = jnp.prod(grid_shape)\n",
        "        return MatchResults(\n",
        "            matches=jnp.zeros(\n",
        "                shape=(CASCADE_MAX_DEPTH, max_possible_matches, num_symbols),\n",
        "                dtype=jnp.int32,\n",
        "            )\n",
        "        )"
      ]
    },
    {
      "cell_type": "code",
      "execution_count": 185,
      "metadata": {},
      "outputs": [],
      "source": [
        "@jax.jit\n",
        "def encode_grid(grid):\n",
        "    \"\"\"One-hot encode the grid\"\"\"\n",
        "    vals = jnp.arange(0, K_MAX + 1)\n",
        "    vals = vals.at[0].set(-1)\n",
        "    vals = vals[:, jnp.newaxis, jnp.newaxis]\n",
        "    return jnp.astype(grid == vals, int)\n",
        "\n",
        "\n",
        "@jax.jit\n",
        "def decode_grid(grid):\n",
        "    \"\"\"Decode one-hot encoded grid.\"\"\"\n",
        "    vals = jnp.arange(0, K_MAX + 1)\n",
        "    vals = vals.at[0].set(-1)\n",
        "    vals = vals[:, jnp.newaxis, jnp.newaxis]\n",
        "    return jnp.sum(vals * grid, axis=0)\n",
        "\n",
        "\n",
        "def plot_grid(grid, ax, matches=None, vmin=None, vmax=None):\n",
        "    ax.grid(color=\"white\", linewidth=2)\n",
        "    ax.set_xticks(jnp.arange(-0.5, 9.5, 1), [])\n",
        "    ax.set_yticks(jnp.arange(-0.5, 9.5, 1), [])\n",
        "\n",
        "    # TODO: this should be tested\n",
        "    if matches is not None:\n",
        "        # Highlight matched cells with red borders\n",
        "        for i in range(len(matches)):\n",
        "            for j in range(len(matches[0])):\n",
        "                if matches[i, j]:\n",
        "                    # Draw a red rectangle around the matched cell\n",
        "                    ax.add_patch(\n",
        "                        plt.Rectangle(\n",
        "                            (j, i),\n",
        "                            1,\n",
        "                            1,\n",
        "                            fill=False,\n",
        "                            edgecolor=\"red\",\n",
        "                            lw=3,  # Border thickness\n",
        "                        )\n",
        "                    )\n",
        "\n",
        "    ax.imshow(grid, vmin=vmin, vmax=vmax)"
      ]
    },
    {
      "cell_type": "code",
      "execution_count": 221,
      "metadata": {},
      "outputs": [
        {
          "name": "stdout",
          "output_type": "stream",
          "text": [
            "[4 4 2 3 1 1 4 1 3]\n"
          ]
        },
        {
          "data": {
            "image/png": "[encoded data removed]",
            "text/plain": [
              "<Figure size 640x480 with 1 Axes>"
            ]
          },
          "metadata": {},
          "output_type": "display_data"
        }
      ],
      "source": [
        "from functools import partial\n",
        "\n",
        "\n",
        "def generate_random_grid(key, k, mask):\n",
        "    grid = jax.random.randint(key, (D_MAX, D_MAX), 1, k + 1)\n",
        "    grid = jnp.where(mask == 0, grid, -1)\n",
        "    return grid\n",
        "\n",
        "\n",
        "key = jax.random.key(seed=3)\n",
        "\n",
        "k = 4\n",
        "# mask = jnp.array([\n",
        "#     [1, 1, 0, 0, 0, 0, 0, 1, 1],\n",
        "#     [1, 1, 0, 0, 0, 0, 0, 1, 1],\n",
        "#     [0, 0, 0, 0, 0, 0, 0, 0, 0],\n",
        "#     [0, 0, 0, 0, 0, 0, 0, 0, 0],\n",
        "#     [0, 0, 0, 0, 0, 0, 0, 0, 0],\n",
        "#     [0, 0, 0, 0, 0, 0, 0, 0, 0],\n",
        "#     [0, 0, 0, 0, 0, 0, 0, 0, 0],\n",
        "#     [1, 1, 0, 0, 0, 0, 0, 1, 1],\n",
        "#     [1, 1, 0, 0, 0, 0, 0, 1, 1],\n",
        "# ])\n",
        "mask = jnp.array(\n",
        "    [\n",
        "        [0, 0, 0, 0, 0, 0, 0, 0, 0],\n",
        "        [0, 0, 0, 0, 0, 0, 0, 0, 0],\n",
        "        [0, 0, 0, 0, 0, 0, 0, 0, 0],\n",
        "        [0, 0, 0, 1, 1, 1, 0, 0, 0],\n",
        "        [0, 0, 0, 1, 1, 1, 0, 0, 0],\n",
        "        [0, 0, 0, 1, 1, 1, 0, 0, 0],\n",
        "        [0, 0, 0, 0, 0, 0, 0, 0, 0],\n",
        "        [0, 0, 0, 0, 0, 0, 0, 0, 0],\n",
        "        [0, 0, 0, 0, 0, 0, 0, 0, 0],\n",
        "    ],\n",
        "    dtype=jnp.int32,\n",
        ")\n",
        "grid = jax.jit(generate_random_grid)(key, k, mask)\n",
        "print(grid[0])\n",
        "plot_grid(grid, plt.gca(), vmin=-1, vmax=k)\n",
        "plt.show()"
      ]
    },
    {
      "cell_type": "code",
      "execution_count": 222,
      "metadata": {},
      "outputs": [],
      "source": [
        "ROLL_DIRECTIONS = [\n",
        "    (-1, 0),  # roll up\n",
        "    (1, 0),  # roll down\n",
        "    (-1, 1),  # roll left\n",
        "    (1, 1),  # roll right\n",
        "]\n",
        "\n",
        "def __translate_grid(grid, direction):\n",
        "    def mask_vertical_fn(carry):\n",
        "        grid, p = carry\n",
        "        return grid.at[p, :].set(-1)\n",
        "\n",
        "    def mask_horizontal_fn(carry):\n",
        "        grid, p = carry\n",
        "        return grid.at[:, p].set(-1)\n",
        "\n",
        "    translated_grid = jnp.roll(grid, direction[0], axis=direction[1])\n",
        "\n",
        "    p = jax.lax.cond(direction[0] == 1, lambda: 0, lambda: -1)\n",
        "    grid = jax.lax.cond(\n",
        "        direction[1] == 0,\n",
        "        mask_vertical_fn,\n",
        "        mask_horizontal_fn,\n",
        "        (translated_grid, p),\n",
        "    )\n",
        "    return grid\n",
        "\n",
        "def find_matches(grid):\n",
        "    grid_roll_up = __translate_grid(grid, ROLL_DIRECTIONS[0])\n",
        "    grid_roll_down = __translate_grid(grid, ROLL_DIRECTIONS[1])\n",
        "    grid_roll_left = __translate_grid(grid, ROLL_DIRECTIONS[2])\n",
        "    grid_roll_right = __translate_grid(grid, ROLL_DIRECTIONS[3])\n",
        "\n",
        "\n",
        "    vertical_matches = jnp.equal(grid, grid_roll_up) & jnp.equal(grid, grid_roll_down)\n",
        "    vertical_matches = jnp.logical_or(\n",
        "        vertical_matches,\n",
        "        jnp.logical_or(\n",
        "            jnp.roll(vertical_matches, shift=-1, axis=0),\n",
        "            jnp.roll(vertical_matches, shift=1, axis=0),\n",
        "        ),\n",
        "    )\n",
        "    horizontal_matches = jnp.equal(grid, grid_roll_left) & jnp.equal(\n",
        "        grid, grid_roll_right\n",
        "    )\n",
        "    horizontal_matches = jnp.logical_or(\n",
        "        horizontal_matches,\n",
        "        jnp.logical_or(\n",
        "            jnp.roll(horizontal_matches, shift=-1, axis=1),\n",
        "            jnp.roll(horizontal_matches, shift=1, axis=1),\n",
        "        ),\n",
        "    )\n",
        "    # print(vertical_matches)\n",
        "\n",
        "    all_matches = jnp.logical_or(vertical_matches, horizontal_matches)\n",
        "    all_matches = jnp.where(grid == -1, False, all_matches)\n",
        "\n",
        "    return all_matches"
      ]
    },
    {
      "cell_type": "code",
      "execution_count": 223,
      "metadata": {},
      "outputs": [],
      "source": [
        "def generate_grid(key, num_symbols, mask=None):\n",
        "    max_iter = 25\n",
        "    if mask is None:\n",
        "        mask = jnp.zeros((D_MAX, D_MAX))\n",
        "\n",
        "    def cond_fn(carry):\n",
        "        _, _, matches, i = carry\n",
        "        return jnp.logical_and(jnp.sum(matches) > 0, i < max_iter)\n",
        "\n",
        "    def body_fn(carry):\n",
        "        key, grid, matches, i = carry\n",
        "        key, subkey = jax.random.split(key)\n",
        "        random_grid = generate_random_grid(subkey, num_symbols, mask)\n",
        "        grid = jnp.where(matches, random_grid, grid)\n",
        "        new_matches = find_matches(grid)\n",
        "        return (key, grid, new_matches, i + 1)\n",
        "\n",
        "    \n",
        "    initial_grid = generate_random_grid(key, num_symbols, mask)\n",
        "    initial_matches = find_matches(initial_grid)\n",
        "    key, grid, matches, i = jax.lax.while_loop(cond_fn, body_fn, (key, initial_grid, initial_matches, 0))\n",
        "    return key, initial_grid, grid, matches, i"
      ]
    },
    {
      "cell_type": "code",
      "execution_count": 224,
      "metadata": {},
      "outputs": [
        {
          "name": "stdout",
          "output_type": "stream",
          "text": [
            "GENERATED!\n"
          ]
        },
        {
          "data": {
            "text/plain": [
              "Array([[0, 0, 0, 0, 0, 0, 0, 0, 0],\n",
              "       [0, 0, 0, 0, 0, 0, 0, 0, 0],\n",
              "       [0, 0, 0, 0, 0, 0, 0, 0, 0],\n",
              "       [0, 0, 0, 0, 0, 0, 0, 0, 0],\n",
              "       [0, 0, 0, 0, 0, 0, 0, 0, 0],\n",
              "       [0, 0, 0, 0, 0, 0, 0, 0, 0],\n",
              "       [0, 0, 0, 0, 0, 0, 0, 0, 0],\n",
              "       [0, 0, 0, 0, 0, 0, 0, 0, 0],\n",
              "       [0, 0, 0, 0, 0, 0, 0, 0, 0]], dtype=int32)"
            ]
          },
          "execution_count": 224,
          "metadata": {},
          "output_type": "execute_result"
        }
      ],
      "source": [
        "key = jax.random.key(seed=42)\n",
        "key, initial_grid, grid, _, _ = jax.jit(generate_grid)(key, 4, mask)\n",
        "print(\"GENERATED!\")\n",
        "grid_match = jnp.astype(find_matches(grid), int)\n",
        "grid_match\n"
      ]
    },
    {
      "cell_type": "code",
      "execution_count": 225,
      "metadata": {},
      "outputs": [
        {
          "data": {
            "image/png": "[encoded data removed]",
            "text/plain": [
              "<Figure size 640x480 with 1 Axes>"
            ]
          },
          "metadata": {},
          "output_type": "display_data"
        },
        {
          "data": {
            "image/png": "[encoded data removed]",
            "text/plain": [
              "<Figure size 640x480 with 1 Axes>"
            ]
          },
          "metadata": {},
          "output_type": "display_data"
        },
        {
          "name": "stdout",
          "output_type": "stream",
          "text": [
            "min_symbol -1\n",
            "max_symbol 4\n"
          ]
        }
      ],
      "source": [
        "key, initial_grid, grid_no_matches, _, _ = jax.jit(generate_grid)(key, 4, mask)\n",
        "plot_grid(initial_grid, plt.gca())\n",
        "plt.show()\n",
        "plot_grid(grid_no_matches, plt.gca())\n",
        "plt.show()\n",
        "# plot_grid(grid_match, plt.gca())\n",
        "\n",
        "print(\"min_symbol\", jnp.min(initial_grid))\n",
        "print(\"max_symbol\", jnp.max(initial_grid))\n"
      ]
    },
    {
      "cell_type": "code",
      "execution_count": 226,
      "metadata": {},
      "outputs": [
        {
          "data": {
            "image/png": "[encoded data removed]",
            "text/plain": [
              "<Figure size 640x480 with 1 Axes>"
            ]
          },
          "metadata": {},
          "output_type": "display_data"
        }
      ],
      "source": [
        "grid_match = jnp.astype(jax.jit(find_matches)(initial_grid), int)\n",
        "plot_grid(grid_match, plt.gca())"
      ]
    },
    {
      "cell_type": "code",
      "execution_count": 227,
      "metadata": {},
      "outputs": [
        {
          "data": {
            "image/png": "[encoded data removed]",
            "text/plain": [
              "<Figure size 640x480 with 1 Axes>"
            ]
          },
          "metadata": {},
          "output_type": "display_data"
        }
      ],
      "source": [
        "def remove_matches(grid):\n",
        "    matches = find_matches(grid)\n",
        "    grid = jnp.where(matches, 0, grid)\n",
        "    return grid\n",
        "\n",
        "# grid = generate_random_grid(jax.random.PRNGKey(1), (9,9), 4, mask)\n",
        "grid = jax.jit(remove_matches)(initial_grid)\n",
        "plot_grid(grid, plt.gca())\n"
      ]
    },
    {
      "cell_type": "code",
      "execution_count": 228,
      "metadata": {},
      "outputs": [],
      "source": [
        "@jax.jit\n",
        "def collapse_grid(grid):\n",
        "    def process_column(col_v):\n",
        "        col_i = jnp.arange(0, 9)\n",
        "        col_w = jnp.astype(col_v == -1, jnp.int4) - jnp.astype(col_v == 0, jnp.int4)\n",
        "\n",
        "        order = jnp.argsort(col_w, stable=True)\n",
        "        col_i = col_i[order]\n",
        "        col_v = col_v[order]\n",
        "\n",
        "        l_mask = col_v != -1\n",
        "        r_mask = col_v == -1\n",
        "\n",
        "        col_i = (\n",
        "            jnp.sort(col_i * l_mask + D_MAX * r_mask) * l_mask\n",
        "            + col_i * r_mask\n",
        "        )\n",
        "\n",
        "        order = jnp.argsort(col_i, stable=True)\n",
        "        return col_v[order]\n",
        "    \n",
        "    # Vectorize over columns\n",
        "    processed_cols = jax.vmap(process_column)(grid.T)\n",
        "    return processed_cols.T"
      ]
    },
    {
      "cell_type": "code",
      "execution_count": 229,
      "metadata": {},
      "outputs": [
        {
          "data": {
            "image/png": "[encoded data removed]",
            "text/plain": [
              "<Figure size 640x480 with 1 Axes>"
            ]
          },
          "metadata": {},
          "output_type": "display_data"
        }
      ],
      "source": [
        "grid = jax.jit(collapse_grid)(grid)\n",
        "plot_grid(grid, plt.gca())"
      ]
    },
    {
      "cell_type": "code",
      "execution_count": 231,
      "metadata": {},
      "outputs": [
        {
          "data": {
            "image/png": "[encoded data removed]",
            "text/plain": [
              "<Figure size 640x480 with 1 Axes>"
            ]
          },
          "metadata": {},
          "output_type": "display_data"
        }
      ],
      "source": [
        "def refill_grid(key, grid, k, mask):\n",
        "    key, subkey = jax.random.split(key)\n",
        "    random_grid = generate_random_grid(subkey, k, mask)\n",
        "    return jnp.where(grid == 0, random_grid, grid)\n",
        "\n",
        "grid_new = jax.jit(refill_grid)(key, grid, 4, mask)\n",
        "plot_grid(grid_new, plt.gca())"
      ]
    },
    {
      "cell_type": "code",
      "execution_count": 238,
      "metadata": {},
      "outputs": [],
      "source": [
        "def __translate_row(grid, row_idx, direction):\n",
        "    row_v = grid.at[row_idx, :].get()\n",
        "    row_v = jnp.roll(row_v, direction)\n",
        "    row_v = jax.lax.cond(direction > 0, lambda: row_v.at[0].set(-1), lambda: row_v.at[-1].set(-1))\n",
        "    return grid.at[row_idx, :].set(row_v)\n",
        "\n",
        "def __translate_column(grid, col_idx, direction: int):\n",
        "    col_v = grid.at[:, col_idx].get()\n",
        "    col_v = jnp.roll(col_v, direction)\n",
        "    col_v = jax.lax.cond(direction > 0, lambda: col_v.at[0].set(-1), lambda: col_v.at[-1].set(-1))\n",
        "    return grid.at[:, col_idx].set(col_v)\n",
        "\n",
        "def __reapply_mask(grid, mask):\n",
        "    return grid * jnp.logical_xor(grid, mask) - mask\n",
        "\n",
        "def __get_translated_grids_tuple(grid, mask):\n",
        "    grid_new_down = jax.vmap(__translate_column, in_axes=(None, 0, None))(grid, jnp.arange(D_MAX), -1)\n",
        "    grid_new_up = jax.vmap(__translate_column, in_axes=(None, 0, None))(grid, jnp.arange(D_MAX), 1)\n",
        "    grid_new_right = jax.vmap(__translate_row, in_axes=(None, 0, None))(grid, jnp.arange(D_MAX), -1)\n",
        "    grid_new_left = jax.vmap(__translate_row, in_axes=(None, 0, None))(grid, jnp.arange(D_MAX), 1)\n",
        "    \n",
        "    # grid_new_down = __reapply_mask(grid_new_down, mask)\n",
        "    # grid_new_up = __reapply_mask(grid_new_up, mask)\n",
        "    # grid_new_right = __reapply_mask(grid_new_right, mask)\n",
        "    # grid_new_left = __reapply_mask(grid_new_left, mask)\n",
        "    \n",
        "    return grid_new_down, grid_new_up, grid_new_right, grid_new_left"
      ]
    },
    {
      "cell_type": "code",
      "execution_count": 239,
      "metadata": {},
      "outputs": [
        {
          "name": "stderr",
          "output_type": "stream",
          "text": [
            "9it [00:00, 38.46it/s]\n"
          ]
        },
        {
          "data": {
            "image/png": "[encoded data removed]",
            "text/plain": [
              "<Figure size 1200x1600 with 36 Axes>"
            ]
          },
          "metadata": {},
          "output_type": "display_data"
        }
      ],
      "source": [
        "grid_new_down, grid_new_up, grid_new_right, grid_new_left = jax.jit(__get_translated_grids_tuple)(grid, mask)\n",
        "\n",
        "grids = jnp.concatenate((grid_new_down, grid_new_up, grid_new_left, grid_new_right), axis=0)\n",
        "grids = jax.vmap(__reapply_mask, in_axes=(0, None))(grids, mask)\n",
        "\n",
        "fig, axs = plt.subplots(D_MAX, 4, figsize=(12, 16))\n",
        "for i, (ax0, ax1, ax2, ax3) in tqdm(enumerate(axs)):\n",
        "    plot_grid(grids[0+i], ax0, vmin=-1, vmax=4)\n",
        "    plot_grid(grids[9*1+i], ax1, vmin=-1, vmax=4)\n",
        "    plot_grid(grids[9*2+i], ax2, vmin=-1, vmax=4)\n",
        "    plot_grid(grids[9*3+i], ax3, vmin=-1, vmax=4)\n",
        "\n",
        "plt.tight_layout()\n",
        "plt.show()"
      ]
    },
    {
      "cell_type": "code",
      "execution_count": 234,
      "metadata": {},
      "outputs": [],
      "source": [
        "def check_no_matches(grid, mask):\n",
        "    grids = jnp.concatenate(__get_translated_grids_tuple(grid, mask), axis=0)\n",
        "    matches = jax.vmap(find_matches)(grids)\n",
        "    return jnp.all(jnp.sum(matches, axis=(1, 2)) == 0)"
      ]
    },
    {
      "cell_type": "code",
      "execution_count": 236,
      "metadata": {},
      "outputs": [
        {
          "data": {
            "text/plain": [
              "Array(False, dtype=bool)"
            ]
          },
          "execution_count": 236,
          "metadata": {},
          "output_type": "execute_result"
        }
      ],
      "source": [
        "jax.jit(check_no_matches)(grid_no_matches, mask)"
      ]
    },
    {
      "cell_type": "code",
      "execution_count": 134,
      "metadata": {},
      "outputs": [],
      "source": [
        "def generate_new_grid_if_no_matches(key, grid, k, mask):\n",
        "    return jax.lax.cond(\n",
        "        check_no_matches(grid, mask),\n",
        "        lambda: generate_grid(key, grid.shape, k, mask),\n",
        "        lambda: grid,\n",
        "    )"
      ]
    },
    {
      "cell_type": "markdown",
      "metadata": {},
      "source": [
        "---"
      ]
    },
    {
      "cell_type": "code",
      "execution_count": 89,
      "metadata": {
        "id": "e8AfXfCDPgGZ"
      },
      "outputs": [],
      "source": [
        "# Masks for all possible matches.\n",
        "filter_masks = jnp.array([\n",
        "    [\n",
        "        [1, 0, 0, 0, 0],\n",
        "        [1, 0, 0, 0, 0],\n",
        "        [1, 0, 0, 0, 0],\n",
        "        [1, 0, 0, 0, 0],\n",
        "        [1, 0, 0, 0, 0],\n",
        "    ],\n",
        "    [\n",
        "        [1, 1, 1, 1, 1],\n",
        "        [0, 0, 0, 0, 0],\n",
        "        [0, 0, 0, 0, 0],\n",
        "        [0, 0, 0, 0, 0],\n",
        "        [0, 0, 0, 0, 0],\n",
        "    ],\n",
        "    [\n",
        "        [1, 0, 0, 0, 0],\n",
        "        [1, 0, 0, 0, 0],\n",
        "        [1, 1, 1, 0, 0],\n",
        "        [0, 0, 0, 0, 0],\n",
        "        [0, 0, 0, 0, 0],\n",
        "    ],\n",
        "    [\n",
        "        [0, 0, 1, 0, 0],\n",
        "        [0, 0, 1, 0, 0],\n",
        "        [1, 1, 1, 0, 0],\n",
        "        [0, 0, 0, 0, 0],\n",
        "        [0, 0, 0, 0, 0],\n",
        "    ],\n",
        "    [\n",
        "        [1, 1, 1, 0, 0],\n",
        "        [0, 0, 1, 0, 0],\n",
        "        [0, 0, 1, 0, 0],\n",
        "        [0, 0, 0, 0, 0],\n",
        "        [0, 0, 0, 0, 0],\n",
        "    ],\n",
        "    [\n",
        "        [1, 1, 1, 0, 0],\n",
        "        [1, 0, 0, 0, 0],\n",
        "        [1, 0, 0, 0, 0],\n",
        "        [0, 0, 0, 0, 0],\n",
        "        [0, 0, 0, 0, 0],\n",
        "    ],\n",
        "    [\n",
        "        [1, 0, 0, 0, 0],\n",
        "        [1, 1, 1, 0, 0],\n",
        "        [1, 0, 0, 0, 0],\n",
        "        [0, 0, 0, 0, 0],\n",
        "        [0, 0, 0, 0, 0],\n",
        "    ],\n",
        "    [\n",
        "        [0, 1, 0, 0, 0],\n",
        "        [0, 1, 0, 0, 0],\n",
        "        [1, 1, 1, 0, 0],\n",
        "        [0, 0, 0, 0, 0],\n",
        "        [0, 0, 0, 0, 0],\n",
        "    ],\n",
        "    [\n",
        "        [0, 0, 1, 0, 0],\n",
        "        [1, 1, 1, 0, 0],\n",
        "        [0, 0, 1, 0, 0],\n",
        "        [0, 0, 0, 0, 0],\n",
        "        [0, 0, 0, 0, 0],\n",
        "    ],\n",
        "    [\n",
        "        [1, 1, 1, 0, 0],\n",
        "        [0, 1, 0, 0, 0],\n",
        "        [0, 1, 0, 0, 0],\n",
        "        [0, 0, 0, 0, 0],\n",
        "        [0, 0, 0, 0, 0],\n",
        "    ],\n",
        "    [\n",
        "        [1, 0, 0, 0, 0],\n",
        "        [1, 0, 0, 0, 0],\n",
        "        [1, 0, 0, 0, 0],\n",
        "        [1, 0, 0, 0, 0],\n",
        "        [0, 0, 0, 0, 0],\n",
        "    ],\n",
        "    [\n",
        "        [1, 1, 1, 1, 0],\n",
        "        [0, 0, 0, 0, 0],\n",
        "        [0, 0, 0, 0, 0],\n",
        "        [0, 0, 0, 0, 0],\n",
        "        [0, 0, 0, 0, 0],\n",
        "    ],\n",
        "    [\n",
        "        [1, 0, 0, 0, 0],\n",
        "        [1, 0, 0, 0, 0],\n",
        "        [1, 0, 0, 0, 0],\n",
        "        [0, 0, 0, 0, 0],\n",
        "        [0, 0, 0, 0, 0],\n",
        "    ],\n",
        "    [\n",
        "        [1, 1, 1, 0, 0],\n",
        "        [0, 0, 0, 0, 0],\n",
        "        [0, 0, 0, 0, 0],\n",
        "        [0, 0, 0, 0, 0],\n",
        "        [0, 0, 0, 0, 0],\n",
        "    ]\n",
        "])\n",
        "\n",
        "# Number of matched elements for each mask.\n",
        "filter_vals = jnp.array([5, 5, 5, 5, 5, 5, 5, 5, 5, 5, 4, 4, 3, 3])\n",
        "\n",
        "# Type of match for each mask.\n",
        "filter_types = jnp.array([4, 4, 3, 3, 3, 3, 2, 2, 2, 2, 1, 1, 0, 0])\n",
        "\n",
        "\n",
        "@jax.jit\n",
        "def remove_matches(grid: jnp.ndarray) -> tuple[jnp.ndarray, jnp.ndarray]:\n",
        "    \"\"\"Remove matches from the game grid.\n",
        "\n",
        "    Args:\n",
        "        grid: One-hot encoded game grid. The first dimension represents the\n",
        "            color, second and third - the element presence.\n",
        "\n",
        "    Returns:\n",
        "        A tuple where the first element is the updated grid and the second array\n",
        "        is the number of matches of each type.\n",
        "    \"\"\"\n",
        "    grid_padded = jnp.pad(grid, 4)\n",
        "    matches = jnp.zeros(5)\n",
        "\n",
        "    # Iterate over each filter.\n",
        "    for filter_mask, filter_val, filter_type in zip(filter_masks, filter_vals, filter_types):\n",
        "\n",
        "        # Iterate over each grid cell skipping padding.\n",
        "        for i in range(4, 13):\n",
        "            for j in range(4, 13):\n",
        "\n",
        "                # Grid under the filter.\n",
        "                # grid_slice.shape = (11, 13, 13).\n",
        "                grid_slice = grid_padded.at[5:, i:i + 5, j:j + 5].get()\n",
        "\n",
        "                # Remove match from the slice if the filter is active.\n",
        "                # is_filter_active.shape = (11, 1, 1).\n",
        "                is_filter_active = jnp.sum(grid_slice * filter_mask, axis=[1, 2]) == filter_val\n",
        "                is_filter_active = is_filter_active[:, jnp.newaxis, jnp.newaxis]\n",
        "\n",
        "                # grid_slice.shape = (11, 13, 13).\n",
        "                grid_slice = jnp.logical_xor(grid_slice, is_filter_active * filter_mask)\n",
        "\n",
        "                # Increment match for each filter activation.\n",
        "                matches = matches.at[filter_type].add(is_filter_active.sum())\n",
        "\n",
        "                # Store grid with updated slice.\n",
        "                grid_padded = grid_padded.at[5:, i:i + 5, j:j + 5].set(grid_slice)\n",
        "\n",
        "    return grid_padded.at[4:-4, 4:13, 4:13].get(), matches"
      ]
    },
    {
      "cell_type": "code",
      "execution_count": null,
      "metadata": {},
      "outputs": [],
      "source": [
        "@jax.jit\n",
        "def collapse_grid(grid):\n",
        "    for i in range(D_MAX):\n",
        "        col_v = grid.at[:, i].get()\n",
        "\n",
        "        col_i = jnp.arange(0, 9)\n",
        "        col_w = jnp.astype(col_v == -1, jnp.int4) - jnp.astype(col_v == 0, jnp.int4)\n",
        "\n",
        "        order = jnp.argsort(col_w, stable=True)\n",
        "        col_i = col_i[order]\n",
        "        col_v = col_v[order]\n",
        "\n",
        "        l_mask = col_v != -1\n",
        "        r_mask = col_v == -1\n",
        "\n",
        "        col_i = (\n",
        "            jnp.sort(col_i * l_mask + D_MAX * r_mask) * l_mask\n",
        "            + col_i * r_mask\n",
        "        )\n",
        "\n",
        "        order = jnp.argsort(col_i, stable=True)\n",
        "        col_v = col_v[order]\n",
        "        grid = grid.at[:, i].set(col_v)\n",
        "    \n",
        "    return grid"
      ]
    },
    {
      "cell_type": "code",
      "execution_count": 213,
      "metadata": {},
      "outputs": [],
      "source": [
        "@jax.jit\n",
        "def refill_grid(key, grid, k):\n",
        "    key, subkey = jax.random.split(key)\n",
        "    random_grid = jax.random.randint(subkey, (D_MAX, D_MAX), 1, k + 1)\n",
        "    return grid + random_grid * (grid == 0)"
      ]
    },
    {
      "cell_type": "code",
      "execution_count": 216,
      "metadata": {
        "colab": {
          "base_uri": "https://localhost:8080/",
          "height": 1000
        },
        "id": "5OaqLXJ1Fyu4",
        "outputId": "2295c142-c2b4-4710-9d16-f45fe7d7cb3f"
      },
      "outputs": [
        {
          "name": "stderr",
          "output_type": "stream",
          "text": [
            "100%|██████████| 6/6 [01:04<00:00, 10.70s/it]\n"
          ]
        },
        {
          "data": {
            "image/png": "[encoded data removed]",
            "text/plain": [
              "<Figure size 800x1200 with 24 Axes>"
            ]
          },
          "metadata": {},
          "output_type": "display_data"
        }
      ],
      "source": [
        "key = jax.random.key(seed=42)\n",
        "\n",
        "k = 4\n",
        "mask = jnp.array([\n",
        "    [1, 1, 0, 0, 0, 0, 0, 1, 1],\n",
        "    [1, 1, 0, 0, 0, 0, 0, 1, 1],\n",
        "    [0, 0, 0, 0, 0, 0, 0, 0, 0],\n",
        "    [0, 0, 0, 0, 1, 0, 0, 0, 0],\n",
        "    [0, 0, 0, 1, 1, 1, 0, 0, 0],\n",
        "    [0, 0, 0, 0, 1, 0, 0, 0, 0],\n",
        "    [0, 0, 0, 0, 0, 0, 0, 0, 0],\n",
        "    [1, 1, 0, 0, 0, 0, 0, 1, 1],\n",
        "    [1, 1, 0, 0, 0, 0, 0, 1, 1],\n",
        "])\n",
        "\n",
        "fig, axs = plt.subplots(6, 4, figsize=(8, 12))\n",
        "for ax0, ax1, ax3, ax4 in tqdm(axs):\n",
        "    key, subkey = jax.random.split(key)\n",
        "    grid = generate_random_grid(key, k, mask)\n",
        "    plot_grid(grid, ax0, vmin=-1, vmax=4)\n",
        "\n",
        "    grid, matches = remove_matches(encode_grid(grid))\n",
        "    grid = decode_grid(grid)\n",
        "    plot_grid(grid, ax1, vmin=-1, vmax=4)\n",
        "\n",
        "    grid = collapse_grid(grid)\n",
        "    plot_grid(grid, ax3, vmin=-1, vmax=4)\n",
        "\n",
        "    key, subkey = jax.random.split(key)\n",
        "    grid = refill_grid(key, grid, 4)\n",
        "    plot_grid(grid, ax4, vmin=-1, vmax=4)\n",
        "\n",
        "plt.tight_layout()\n",
        "plt.show()"
      ]
    },
    {
      "cell_type": "code",
      "execution_count": null,
      "metadata": {},
      "outputs": [],
      "source": []
    }
  ],
  "metadata": {
    "colab": {
      "provenance": []
    },
    "kernelspec": {
      "display_name": "inno-ml",
      "language": "python",
      "name": "python3"
    },
    "language_info": {
      "codemirror_mode": {
        "name": "ipython",
        "version": 3
      },
      "file_extension": ".py",
      "mimetype": "text/x-python",
      "name": "python",
      "nbconvert_exporter": "python",
      "pygments_lexer": "ipython3",
      "version": "3.10.14"
    }
  },
  "nbformat": 4,
  "nbformat_minor": 0
}
