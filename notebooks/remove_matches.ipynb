{
  "nbformat": 4,
  "nbformat_minor": 0,
  "metadata": {
    "colab": {
      "provenance": []
    },
    "kernelspec": {
      "name": "python3",
      "display_name": "Python 3"
    },
    "language_info": {
      "name": "python"
    }
  },
  "cells": [
    {
      "cell_type": "code",
      "source": [
        "import jax\n",
        "import jax.numpy as jnp\n",
        "import matplotlib.pyplot as plt\n",
        "from tqdm import tqdm"
      ],
      "metadata": {
        "id": "RtpsIW449BMW"
      },
      "execution_count": 2,
      "outputs": []
    },
    {
      "cell_type": "code",
      "source": [
        "# Masks for all possible matches.\n",
        "filter_masks = jnp.array([\n",
        "    [\n",
        "        [1, 0, 0, 0, 0],\n",
        "        [1, 0, 0, 0, 0],\n",
        "        [1, 0, 0, 0, 0],\n",
        "        [1, 0, 0, 0, 0],\n",
        "        [1, 0, 0, 0, 0],\n",
        "    ],\n",
        "    [\n",
        "        [1, 1, 1, 1, 1],\n",
        "        [0, 0, 0, 0, 0],\n",
        "        [0, 0, 0, 0, 0],\n",
        "        [0, 0, 0, 0, 0],\n",
        "        [0, 0, 0, 0, 0],\n",
        "    ],\n",
        "    [\n",
        "        [1, 0, 0, 0, 0],\n",
        "        [1, 0, 0, 0, 0],\n",
        "        [1, 1, 1, 0, 0],\n",
        "        [0, 0, 0, 0, 0],\n",
        "        [0, 0, 0, 0, 0],\n",
        "    ],\n",
        "    [\n",
        "        [0, 0, 1, 0, 0],\n",
        "        [0, 0, 1, 0, 0],\n",
        "        [1, 1, 1, 0, 0],\n",
        "        [0, 0, 0, 0, 0],\n",
        "        [0, 0, 0, 0, 0],\n",
        "    ],\n",
        "    [\n",
        "        [1, 1, 1, 0, 0],\n",
        "        [0, 0, 1, 0, 0],\n",
        "        [0, 0, 1, 0, 0],\n",
        "        [0, 0, 0, 0, 0],\n",
        "        [0, 0, 0, 0, 0],\n",
        "    ],\n",
        "    [\n",
        "        [1, 1, 1, 0, 0],\n",
        "        [1, 0, 0, 0, 0],\n",
        "        [1, 0, 0, 0, 0],\n",
        "        [0, 0, 0, 0, 0],\n",
        "        [0, 0, 0, 0, 0],\n",
        "    ],\n",
        "    [\n",
        "        [1, 0, 0, 0, 0],\n",
        "        [1, 1, 1, 0, 0],\n",
        "        [1, 0, 0, 0, 0],\n",
        "        [0, 0, 0, 0, 0],\n",
        "        [0, 0, 0, 0, 0],\n",
        "    ],\n",
        "    [\n",
        "        [0, 1, 0, 0, 0],\n",
        "        [0, 1, 0, 0, 0],\n",
        "        [1, 1, 1, 0, 0],\n",
        "        [0, 0, 0, 0, 0],\n",
        "        [0, 0, 0, 0, 0],\n",
        "    ],\n",
        "    [\n",
        "        [0, 0, 1, 0, 0],\n",
        "        [1, 1, 1, 0, 0],\n",
        "        [0, 0, 1, 0, 0],\n",
        "        [0, 0, 0, 0, 0],\n",
        "        [0, 0, 0, 0, 0],\n",
        "    ],\n",
        "    [\n",
        "        [1, 1, 1, 0, 0],\n",
        "        [0, 1, 0, 0, 0],\n",
        "        [0, 1, 0, 0, 0],\n",
        "        [0, 0, 0, 0, 0],\n",
        "        [0, 0, 0, 0, 0],\n",
        "    ],\n",
        "    [\n",
        "        [1, 0, 0, 0, 0],\n",
        "        [1, 0, 0, 0, 0],\n",
        "        [1, 0, 0, 0, 0],\n",
        "        [1, 0, 0, 0, 0],\n",
        "        [0, 0, 0, 0, 0],\n",
        "    ],\n",
        "    [\n",
        "        [1, 1, 1, 1, 0],\n",
        "        [0, 0, 0, 0, 0],\n",
        "        [0, 0, 0, 0, 0],\n",
        "        [0, 0, 0, 0, 0],\n",
        "        [0, 0, 0, 0, 0],\n",
        "    ],\n",
        "    [\n",
        "        [1, 0, 0, 0, 0],\n",
        "        [1, 0, 0, 0, 0],\n",
        "        [1, 0, 0, 0, 0],\n",
        "        [0, 0, 0, 0, 0],\n",
        "        [0, 0, 0, 0, 0],\n",
        "    ],\n",
        "    [\n",
        "        [1, 1, 1, 0, 0],\n",
        "        [0, 0, 0, 0, 0],\n",
        "        [0, 0, 0, 0, 0],\n",
        "        [0, 0, 0, 0, 0],\n",
        "        [0, 0, 0, 0, 0],\n",
        "    ]\n",
        "])\n",
        "\n",
        "# Number of matched elements for each mask.\n",
        "filter_vals = jnp.array([5, 5, 5, 5, 5, 5, 5, 5, 5, 5, 4, 4, 3, 3])\n",
        "\n",
        "# Type of match for each mask.\n",
        "filter_types = jnp.array([4, 4, 3, 3, 3, 3, 2, 2, 2, 2, 1, 1, 0, 0])\n",
        "\n",
        "\n",
        "@jax.jit\n",
        "def remove_matches(grid: jnp.ndarray) -> tuple[jnp.ndarray, jnp.ndarray]:\n",
        "    \"\"\"Remove matches from the game grid.\n",
        "\n",
        "    Args:\n",
        "        grid: One-hot encoded game grid. The first dimension represents the\n",
        "            color, second and third - the element presence.\n",
        "\n",
        "    Returns:\n",
        "        A tuple where the first element is the updated grid and the second array\n",
        "        is the number of matches of each type.\n",
        "    \"\"\"\n",
        "    grid_pad = jnp.pad(grid, 4)\n",
        "    matches = jnp.zeros(5)\n",
        "\n",
        "    # Iterate over each filter.\n",
        "    for filter_mask, filter_val, filter_type in zip(filter_masks, filter_vals, filter_types):\n",
        "\n",
        "        # Iterate over each grid cell skipping padding.\n",
        "        for i in range(4, 13):\n",
        "            for j in range(4, 13):\n",
        "\n",
        "                # Grid under the filter.\n",
        "                # grid_slice.shape = (11, 13, 13).\n",
        "                grid_slice = grid_pad.at[:, i:i + 5, j:j + 5].get()\n",
        "\n",
        "                # Remove match from the slice if the filter is active.\n",
        "                # is_filter_active.shape = (11, 1, 1).\n",
        "                is_filter_active = jnp.sum(grid_slice * filter_mask, axis=[1, 2]) == filter_val\n",
        "                is_filter_active = is_filter_active[:, jnp.newaxis, jnp.newaxis]\n",
        "\n",
        "                # grid_slice.shape = (11, 13, 13).\n",
        "                grid_slice = jnp.logical_xor(grid_slice, is_filter_active * filter_mask)\n",
        "\n",
        "                # Increment match for each filter activation.\n",
        "                matches = matches.at[filter_type].add(is_filter_active.sum())\n",
        "\n",
        "                # Store grid with updated slice.\n",
        "                grid_pad = grid_pad.at[:, i:i + 5, j:j + 5].set(grid_slice)\n",
        "\n",
        "    return grid_pad.at[4:-4, 4:13, 4:13].get(), matches"
      ],
      "metadata": {
        "id": "e8AfXfCDPgGZ"
      },
      "execution_count": null,
      "outputs": []
    },
    {
      "cell_type": "code",
      "source": [
        "@jax.jit\n",
        "def encode_grid(grid):\n",
        "    \"\"\"One-hot encode the grid\"\"\"\n",
        "    grid_encoded = jnp.zeros((7, 9, 9))\n",
        "    vals = jnp.array(range(7)) + 1\n",
        "    vals = vals[:, jnp.newaxis, jnp.newaxis]\n",
        "    return jnp.astype(grid == vals, int)\n",
        "\n",
        "\n",
        "@jax.jit\n",
        "def decode_grid(grid):\n",
        "    \"\"\"Decode one-hot encoded grid.\"\"\"\n",
        "    vals = jnp.array(range(7)) + 1\n",
        "    vals = vals[:, jnp.newaxis, jnp.newaxis]\n",
        "    return jnp.sum(vals * grid, axis=0)\n",
        "\n",
        "\n",
        "def plot_grid(grid, ax, vmin=None, vmax=None):\n",
        "    ax.grid(color=\"white\", linewidth=2)\n",
        "    ax.set_xticks(jnp.arange(-0.5, 9.5, 1), [])\n",
        "    ax.set_yticks(jnp.arange(-0.5, 9.5, 1), [])\n",
        "    ax.imshow(grid, vmin=vmin, vmax=vmax)"
      ],
      "metadata": {
        "id": "ctMdxe-95YLr"
      },
      "execution_count": null,
      "outputs": []
    },
    {
      "cell_type": "code",
      "source": [
        "%timeit remove_matches(grid)"
      ],
      "metadata": {
        "colab": {
          "base_uri": "https://localhost:8080/"
        },
        "id": "swYKP9kJXzB_",
        "outputId": "12099fa7-fae2-40c5-a0b8-60935172d684"
      },
      "execution_count": null,
      "outputs": [
        {
          "output_type": "stream",
          "name": "stdout",
          "text": [
            "2.47 s ± 771 ms per loop (mean ± std. dev. of 7 runs, 1 loop each)\n"
          ]
        }
      ]
    },
    {
      "cell_type": "code",
      "source": [
        "remove_matches_jit = jax.jit(remove_matches)\n",
        "%timeit jax.block_until_ready(remove_matches_jit(grid))"
      ],
      "metadata": {
        "colab": {
          "base_uri": "https://localhost:8080/"
        },
        "id": "uEG9JJ080fIT",
        "outputId": "118745d3-c7bf-4278-8324-27cfdd54fdd5"
      },
      "execution_count": null,
      "outputs": [
        {
          "output_type": "stream",
          "name": "stdout",
          "text": [
            "6.29 ms ± 800 µs per loop (mean ± std. dev. of 7 runs, 1 loop each)\n"
          ]
        }
      ]
    },
    {
      "cell_type": "code",
      "source": [
        "rng = jnp.random.default_rng(seed=42)\n",
        "\n",
        "fig, axs = plt.subplots(6, 2, figsize=(4, 12))\n",
        "for ax0, ax1 in tqdm(axs):\n",
        "    grid = rng.integers(1, 5, size=(9, 9))\n",
        "    plot_grid(grid, ax0, vmin=0, vmax=4)\n",
        "\n",
        "    grid, matches = remove_matches(encode_grid(grid))\n",
        "    grid = decode_grid(grid)\n",
        "    plot_grid(grid, ax1, vmin=0, vmax=4)\n",
        "\n",
        "plt.tight_layout()\n",
        "plt.show()"
      ],
      "metadata": {
        "colab": {
          "base_uri": "https://localhost:8080/",
          "height": 1000
        },
        "id": "5OaqLXJ1Fyu4",
        "outputId": "2295c142-c2b4-4710-9d16-f45fe7d7cb3f"
      },
      "execution_count": null,
      "outputs": [
        {
          "output_type": "stream",
          "name": "stderr",
          "text": [
            "100%|██████████| 6/6 [00:54<00:00,  9.08s/it]\n"
          ]
        },
        {
          "output_type": "display_data",
          "data": {
            "text/plain": [
              "<Figure size 400x1200 with 12 Axes>"
            ],
            "image/png": "[encoded data removed]"
          },
          "metadata": {}
        }
      ]
    },
    {
      "cell_type": "code",
      "source": [],
      "metadata": {
        "id": "hkLNB4z21Jk0"
      },
      "execution_count": null,
      "outputs": []
    }
  ]
}