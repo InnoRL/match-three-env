{
 "cells": [
  {
   "cell_type": "code",
   "execution_count": 1,
   "metadata": {
    "id": "RtpsIW449BMW"
   },
   "outputs": [],
   "source": [
    "import jax\n",
    "import jax.numpy as jnp\n",
    "import matplotlib.pyplot as plt\n",
    "from tqdm import tqdm\n",
    "\n",
    "K_MIN = 4\n",
    "K_MAX = 7\n",
    "D_MAX = 9\n",
    "\n",
    "CASCADE_MAX_DEPTH = 10\n",
    "REGEN_MAX_ITER = 20"
   ]
  },
  {
   "cell_type": "code",
   "execution_count": 241,
   "metadata": {},
   "outputs": [],
   "source": [
    "# jax.config.update('jax_platform_name', 'cpu')  # Force CPU-only mode"
   ]
  },
  {
   "cell_type": "code",
   "execution_count": 2,
   "metadata": {},
   "outputs": [],
   "source": [
    "from typing import Tuple\n",
    "\n",
    "import chex\n",
    "from flax import struct\n",
    "\n",
    "\n",
    "@struct.dataclass\n",
    "class MatchResults:\n",
    "    \"\"\"\n",
    "    Match Result is a 3D matrix where:\n",
    "\n",
    "    - Dimension 0: Depth (number of match cascades)\n",
    "    - Dimension 1: Type of matches at that depth (matching 3 in a row, 4, cross etc)\n",
    "    - Dimension 2: Symbol type (e.g., which game pieces matched)\n",
    "\n",
    "    The data type is `int`, compatible with JAX.\n",
    "    \"\"\"\n",
    "\n",
    "    matches: chex.Array  # Shape: (depth, num_matches_per_depth, symbol_type)\n",
    "\n",
    "    def initialize(grid_shape: Tuple, num_symbols: int) -> \"MatchResults\":\n",
    "        # TODO: calculate max max_possible_matches properly\n",
    "        max_possible_matches = jnp.prod(grid_shape)\n",
    "        return MatchResults(\n",
    "            matches=jnp.zeros(\n",
    "                shape=(CASCADE_MAX_DEPTH, max_possible_matches, num_symbols),\n",
    "                dtype=jnp.int32,\n",
    "            )\n",
    "        )"
   ]
  },
  {
   "cell_type": "code",
   "execution_count": 3,
   "metadata": {},
   "outputs": [],
   "source": [
    "@jax.jit\n",
    "def encode_grid(grid):\n",
    "    \"\"\"One-hot encode the grid\"\"\"\n",
    "    vals = jnp.arange(0, K_MAX + 1)\n",
    "    vals = vals.at[0].set(-1)\n",
    "    vals = vals[:, jnp.newaxis, jnp.newaxis]\n",
    "    return jnp.astype(grid == vals, int)\n",
    "\n",
    "\n",
    "@jax.jit\n",
    "def decode_grid(grid):\n",
    "    \"\"\"Decode one-hot encoded grid.\"\"\"\n",
    "    vals = jnp.arange(0, K_MAX + 1)\n",
    "    vals = vals.at[0].set(-1)\n",
    "    vals = vals[:, jnp.newaxis, jnp.newaxis]\n",
    "    return jnp.sum(vals * grid, axis=0)\n",
    "\n",
    "\n",
    "def plot_grid(grid, ax, matches=None, vmin=None, vmax=None):\n",
    "    ax.grid(color=\"white\", linewidth=2)\n",
    "    ax.set_xticks(jnp.arange(-0.5, 9.5, 1), [])\n",
    "    ax.set_yticks(jnp.arange(-0.5, 9.5, 1), [])\n",
    "\n",
    "    # TODO: this should be tested\n",
    "    if matches is not None:\n",
    "        # Highlight matched cells with red borders\n",
    "        for i in range(len(matches)):\n",
    "            for j in range(len(matches[0])):\n",
    "                if matches[i, j]:\n",
    "                    # Draw a red rectangle around the matched cell\n",
    "                    ax.add_patch(\n",
    "                        plt.Rectangle(\n",
    "                            (j, i),\n",
    "                            1,\n",
    "                            1,\n",
    "                            fill=False,\n",
    "                            edgecolor=\"red\",\n",
    "                            lw=3,  # Border thickness\n",
    "                        )\n",
    "                    )\n",
    "\n",
    "    ax.imshow(grid, vmin=vmin, vmax=vmax)"
   ]
  },
  {
   "cell_type": "code",
   "execution_count": 4,
   "metadata": {},
   "outputs": [
    {
     "name": "stdout",
     "output_type": "stream",
     "text": [
      "[4 4 2 3 1 1 4 1 3]\n"
     ]
    },
    {
     "data": {
      "image/png": "[encoded data removed]",
      "text/plain": [
       "<Figure size 640x480 with 1 Axes>"
      ]
     },
     "metadata": {},
     "output_type": "display_data"
    }
   ],
   "source": [
    "def generate_random_grid(key, k, mask):\n",
    "    grid = jax.random.randint(key, (D_MAX, D_MAX), 1, k + 1)\n",
    "    grid = jnp.where(mask == 0, grid, -1)\n",
    "    return grid\n",
    "\n",
    "\n",
    "key = jax.random.key(seed=3)\n",
    "\n",
    "k = 4\n",
    "# mask = jnp.array([\n",
    "#     [1, 1, 0, 0, 0, 0, 0, 1, 1],\n",
    "#     [1, 1, 0, 0, 0, 0, 0, 1, 1],\n",
    "#     [0, 0, 0, 0, 0, 0, 0, 0, 0],\n",
    "#     [0, 0, 0, 0, 0, 0, 0, 0, 0],\n",
    "#     [0, 0, 0, 0, 0, 0, 0, 0, 0],\n",
    "#     [0, 0, 0, 0, 0, 0, 0, 0, 0],\n",
    "#     [0, 0, 0, 0, 0, 0, 0, 0, 0],\n",
    "#     [1, 1, 0, 0, 0, 0, 0, 1, 1],\n",
    "#     [1, 1, 0, 0, 0, 0, 0, 1, 1],\n",
    "# ])\n",
    "mask = jnp.array(\n",
    "    [\n",
    "        [0, 0, 0, 0, 0, 0, 0, 0, 0],\n",
    "        [0, 0, 0, 0, 0, 0, 0, 0, 0],\n",
    "        [0, 0, 0, 0, 0, 0, 0, 0, 0],\n",
    "        [0, 0, 0, 1, 1, 1, 0, 0, 0],\n",
    "        [0, 0, 0, 1, 1, 1, 0, 0, 0],\n",
    "        [0, 0, 0, 1, 1, 1, 0, 0, 0],\n",
    "        [0, 0, 0, 0, 0, 0, 0, 0, 0],\n",
    "        [0, 0, 0, 0, 0, 0, 0, 0, 0],\n",
    "        [0, 0, 0, 0, 0, 0, 0, 0, 0],\n",
    "    ],\n",
    "    dtype=jnp.int32,\n",
    ")\n",
    "grid = jax.jit(generate_random_grid)(key, k, mask)\n",
    "print(grid[0])\n",
    "plot_grid(grid, plt.gca(), vmin=-1, vmax=k)\n",
    "plt.show()"
   ]
  },
  {
   "cell_type": "code",
   "execution_count": 5,
   "metadata": {},
   "outputs": [],
   "source": [
    "ROLL_DIRECTIONS = [\n",
    "    (-1, 0),  # roll up\n",
    "    (1, 0),  # roll down\n",
    "    (-1, 1),  # roll left\n",
    "    (1, 1),  # roll right\n",
    "]\n",
    "\n",
    "\n",
    "def __translate_grid(grid, direction):\n",
    "    def mask_vertical_fn(carry):\n",
    "        grid, p = carry\n",
    "        return grid.at[p, :].set(-1)\n",
    "\n",
    "    def mask_horizontal_fn(carry):\n",
    "        grid, p = carry\n",
    "        return grid.at[:, p].set(-1)\n",
    "\n",
    "    translated_grid = jnp.roll(grid, direction[0], axis=direction[1])\n",
    "\n",
    "    p = jax.lax.cond(direction[0] == 1, lambda: 0, lambda: -1)\n",
    "    grid = jax.lax.cond(\n",
    "        direction[1] == 0,\n",
    "        mask_vertical_fn,\n",
    "        mask_horizontal_fn,\n",
    "        (translated_grid, p),\n",
    "    )\n",
    "    return grid\n",
    "\n",
    "\n",
    "def find_matches(grid):\n",
    "    grid_roll_up = __translate_grid(grid, ROLL_DIRECTIONS[0])\n",
    "    grid_roll_down = __translate_grid(grid, ROLL_DIRECTIONS[1])\n",
    "    grid_roll_left = __translate_grid(grid, ROLL_DIRECTIONS[2])\n",
    "    grid_roll_right = __translate_grid(grid, ROLL_DIRECTIONS[3])\n",
    "\n",
    "    vertical_matches = jnp.equal(grid, grid_roll_up) & jnp.equal(grid, grid_roll_down)\n",
    "    vertical_matches = jnp.logical_or(\n",
    "        vertical_matches,\n",
    "        jnp.logical_or(\n",
    "            jnp.roll(vertical_matches, shift=-1, axis=0),\n",
    "            jnp.roll(vertical_matches, shift=1, axis=0),\n",
    "        ),\n",
    "    )\n",
    "    horizontal_matches = jnp.equal(grid, grid_roll_left) & jnp.equal(\n",
    "        grid, grid_roll_right\n",
    "    )\n",
    "    horizontal_matches = jnp.logical_or(\n",
    "        horizontal_matches,\n",
    "        jnp.logical_or(\n",
    "            jnp.roll(horizontal_matches, shift=-1, axis=1),\n",
    "            jnp.roll(horizontal_matches, shift=1, axis=1),\n",
    "        ),\n",
    "    )\n",
    "    # print(vertical_matches)\n",
    "\n",
    "    all_matches = jnp.logical_or(vertical_matches, horizontal_matches)\n",
    "    all_matches = jnp.where(grid == -1, False, all_matches)\n",
    "\n",
    "    return all_matches"
   ]
  },
  {
   "cell_type": "code",
   "execution_count": 6,
   "metadata": {},
   "outputs": [],
   "source": [
    "def generate_grid(key, num_symbols, mask=None):\n",
    "    max_iter = 25\n",
    "    if mask is None:\n",
    "        mask = jnp.zeros((D_MAX, D_MAX))\n",
    "\n",
    "    def cond_fn(carry):\n",
    "        _, _, matches, i = carry\n",
    "        return jnp.logical_and(jnp.sum(matches) > 0, i < max_iter)\n",
    "\n",
    "    def body_fn(carry):\n",
    "        key, grid, matches, i = carry\n",
    "        key, subkey = jax.random.split(key)\n",
    "        random_grid = generate_random_grid(subkey, num_symbols, mask)\n",
    "        grid = jnp.where(matches, random_grid, grid)\n",
    "        new_matches = find_matches(grid)\n",
    "        return (key, grid, new_matches, i + 1)\n",
    "\n",
    "    initial_grid = generate_random_grid(key, num_symbols, mask)\n",
    "    initial_matches = find_matches(initial_grid)\n",
    "    key, grid, matches, i = jax.lax.while_loop(\n",
    "        cond_fn, body_fn, (key, initial_grid, initial_matches, 0)\n",
    "    )\n",
    "    return key, initial_grid, grid, matches, i"
   ]
  },
  {
   "cell_type": "code",
   "execution_count": 26,
   "metadata": {},
   "outputs": [
    {
     "name": "stdout",
     "output_type": "stream",
     "text": [
      "GENERATED!\n"
     ]
    },
    {
     "data": {
      "text/plain": [
       "Array([[0, 0, 0, 0, 0, 0, 0, 0, 0],\n",
       "       [0, 0, 0, 0, 0, 0, 0, 0, 0],\n",
       "       [0, 0, 0, 0, 0, 0, 0, 0, 0],\n",
       "       [0, 0, 0, 0, 0, 0, 0, 0, 0],\n",
       "       [0, 0, 0, 0, 0, 0, 0, 0, 0],\n",
       "       [0, 0, 0, 0, 0, 0, 0, 0, 0],\n",
       "       [0, 0, 0, 0, 0, 0, 0, 0, 0],\n",
       "       [0, 0, 0, 0, 0, 0, 0, 0, 0],\n",
       "       [0, 0, 0, 0, 0, 0, 0, 0, 0]], dtype=int32)"
      ]
     },
     "execution_count": 26,
     "metadata": {},
     "output_type": "execute_result"
    }
   ],
   "source": [
    "key = jax.random.key(seed=42)\n",
    "key, initial_grid, grid, _, _ = jax.jit(generate_grid)(key, 4, mask)\n",
    "print(\"GENERATED!\")\n",
    "grid_match = jnp.astype(find_matches(grid), int)\n",
    "grid_match"
   ]
  },
  {
   "cell_type": "code",
   "execution_count": 27,
   "metadata": {},
   "outputs": [
    {
     "data": {
      "image/png": "[encoded data removed]",
      "text/plain": [
       "<Figure size 640x480 with 1 Axes>"
      ]
     },
     "metadata": {},
     "output_type": "display_data"
    },
    {
     "data": {
      "image/png": "[encoded data removed]",
      "text/plain": [
       "<Figure size 640x480 with 1 Axes>"
      ]
     },
     "metadata": {},
     "output_type": "display_data"
    },
    {
     "name": "stdout",
     "output_type": "stream",
     "text": [
      "min_symbol -1\n",
      "max_symbol 4\n"
     ]
    }
   ],
   "source": [
    "key, initial_grid, grid_no_matches, _, _ = jax.jit(generate_grid)(key, 4, mask)\n",
    "plot_grid(initial_grid, plt.gca())\n",
    "plt.show()\n",
    "plot_grid(grid_no_matches, plt.gca())\n",
    "plt.show()\n",
    "# plot_grid(grid_match, plt.gca())\n",
    "\n",
    "print(\"min_symbol\", jnp.min(initial_grid))\n",
    "print(\"max_symbol\", jnp.max(initial_grid))"
   ]
  },
  {
   "cell_type": "code",
   "execution_count": 28,
   "metadata": {},
   "outputs": [
    {
     "data": {
      "image/png": "[encoded data removed]",
      "text/plain": [
       "<Figure size 640x480 with 1 Axes>"
      ]
     },
     "metadata": {},
     "output_type": "display_data"
    }
   ],
   "source": [
    "grid_match = jnp.astype(jax.jit(find_matches)(initial_grid), int)\n",
    "plot_grid(grid_match, plt.gca())"
   ]
  },
  {
   "cell_type": "code",
   "execution_count": 29,
   "metadata": {},
   "outputs": [],
   "source": [
    "def __translate_grid_vertical(grid, direction) -> chex.Array:\n",
    "    # def mask_vertical_fn(carry):\n",
    "    #     grid, p = carry\n",
    "    #     return grid.at[p, :].set(-1)\n",
    "\n",
    "    translated_grid = jnp.roll(grid, direction, axis=0)\n",
    "\n",
    "    p = jax.lax.cond(direction == 1, lambda: 0, lambda: -1)\n",
    "    grid = translated_grid.at[p, :].set(-1)  # mask_vertical_fn(translated_grid, p)\n",
    "\n",
    "    return grid\n",
    "\n",
    "\n",
    "def __translate_grid_horizontal(grid, direction) -> chex.Array:\n",
    "    # def mask_horizontal_fn(carry):\n",
    "    #     grid, p = carry\n",
    "    #     return grid.at[:, p].set(-1)\n",
    "\n",
    "    translated_grid = jnp.roll(grid, direction, axis=1)\n",
    "\n",
    "    p = jax.lax.cond(direction == 1, lambda: 0, lambda: -1)\n",
    "    grid = translated_grid.at[:, p].set(-1)  # mask_vertical_fn(translated_grid, p)\n",
    "\n",
    "    return grid\n",
    "\n",
    "\n",
    "def find_matches_2(grid: chex.Array) -> chex.Array:\n",
    "    grid_roll_up = __translate_grid_vertical(grid, -1)\n",
    "    grid_roll_down = __translate_grid_vertical(grid, 1)\n",
    "    grid_roll_left = __translate_grid_horizontal(grid, -1)\n",
    "    grid_roll_right = __translate_grid_horizontal(grid, 1)\n",
    "\n",
    "    vertical_matches = jnp.equal(grid, grid_roll_up) & jnp.equal(grid, grid_roll_down)\n",
    "    vertical_matches = jnp.logical_or(\n",
    "        vertical_matches,\n",
    "        jnp.logical_or(\n",
    "            jnp.roll(vertical_matches, shift=-1, axis=0),\n",
    "            jnp.roll(vertical_matches, shift=1, axis=0),\n",
    "        ),\n",
    "    )\n",
    "    horizontal_matches = jnp.equal(grid, grid_roll_left) & jnp.equal(\n",
    "        grid, grid_roll_right\n",
    "    )\n",
    "    horizontal_matches = jnp.logical_or(\n",
    "        horizontal_matches,\n",
    "        jnp.logical_or(\n",
    "            jnp.roll(horizontal_matches, shift=-1, axis=1),\n",
    "            jnp.roll(horizontal_matches, shift=1, axis=1),\n",
    "        ),\n",
    "    )\n",
    "    # print(vertical_matches)\n",
    "\n",
    "    all_matches = jnp.logical_or(vertical_matches, horizontal_matches)\n",
    "    all_matches = jnp.where(grid == -1, False, all_matches)\n",
    "\n",
    "    return all_matches"
   ]
  },
  {
   "cell_type": "code",
   "execution_count": 30,
   "metadata": {},
   "outputs": [
    {
     "data": {
      "image/png": "[encoded data removed]",
      "text/plain": [
       "<Figure size 640x480 with 1 Axes>"
      ]
     },
     "metadata": {},
     "output_type": "display_data"
    }
   ],
   "source": [
    "grid_match = jnp.astype(jax.jit(find_matches_2)(initial_grid), int)\n",
    "plot_grid(grid_match, plt.gca())"
   ]
  },
  {
   "cell_type": "code",
   "execution_count": 55,
   "metadata": {},
   "outputs": [
    {
     "data": {
      "image/png": "[encoded data removed]",
      "text/plain": [
       "<Figure size 640x480 with 1 Axes>"
      ]
     },
     "metadata": {},
     "output_type": "display_data"
    }
   ],
   "source": [
    "def remove_matches(grid):\n",
    "    matches = find_matches(grid)\n",
    "    grid = jnp.where(matches, 0, grid)\n",
    "    return grid\n",
    "\n",
    "\n",
    "# grid = generate_random_grid(jax.random.PRNGKey(1), (9,9), 4, mask)\n",
    "grid = jax.jit(remove_matches)(initial_grid)\n",
    "plot_grid(grid, plt.gca())"
   ]
  },
  {
   "cell_type": "code",
   "execution_count": 90,
   "metadata": {},
   "outputs": [],
   "source": [
    "# @jax.jit\n",
    "# def collapse_grid(grid):\n",
    "#     def process_column(col_v):\n",
    "#         col_i = jnp.arange(0, 9)\n",
    "#         col_w = jnp.astype(col_v == -1, jnp.int4) - jnp.astype(col_v == 0, jnp.int4)\n",
    "\n",
    "#         order = jnp.argsort(col_w, stable=True)\n",
    "#         col_i = col_i[order]\n",
    "#         col_v = col_v[order]\n",
    "\n",
    "#         l_mask = col_v != -1\n",
    "#         r_mask = col_v == -1\n",
    "\n",
    "#         col_i = (\n",
    "#             jnp.sort(col_i * l_mask + D_MAX * r_mask) * l_mask\n",
    "#             + col_i * r_mask\n",
    "#         )\n",
    "\n",
    "#         order = jnp.argsort(col_i, stable=True)\n",
    "#         return col_v[order]\n",
    "\n",
    "#     # Vectorize over columns\n",
    "#     processed_cols = jax.vmap(process_column)(grid.T)\n",
    "#     return processed_cols.T\n",
    "\n",
    "\n",
    "def collapse_grid(grid: chex.Array) -> chex.Array:\n",
    "    def process_column(col_v: chex.Array) -> chex.Array:\n",
    "        def cond_fn(carry):\n",
    "            p_empty, p_symbol, _ = carry\n",
    "            return jnp.logical_and(p_empty > 0, p_symbol > 0)\n",
    "\n",
    "        def body_fn(carry):\n",
    "            p_empty, p_symbol, col_v = carry\n",
    "            # jax.debug.print(\n",
    "            #     \"p_empty: {p_empty}, p_symbol: {p_symbol}\",\n",
    "            #     p_empty=p_empty,\n",
    "            #     p_symbol=p_symbol,\n",
    "            # )\n",
    "            # print(f\"p_empty: {p_empty}, p_symbol: {p_symbol}\")\n",
    "            p_empty = jax.lax.cond(\n",
    "                col_v.at[p_empty].get() == 0, lambda: p_empty, lambda: p_empty - 1\n",
    "            )  # if cell is empty then wait\n",
    "            p_symbol = jax.lax.cond(\n",
    "                jnp.logical_and(p_symbol < p_empty, col_v.at[p_symbol].get() > 0),\n",
    "                lambda: p_symbol,\n",
    "                lambda: p_symbol - 1,\n",
    "            )  # if cell is symbol and higher than empty cell then wait\n",
    "            p_empty_val = col_v.at[p_empty].get()\n",
    "            p_symbol_val = col_v.at[p_symbol].get()\n",
    "            can_swap = jnp.logical_and(\n",
    "                p_symbol < p_empty, jnp.logical_and(p_empty_val == 0, p_symbol_val > 0)\n",
    "            )\n",
    "\n",
    "            # jax.debug.print(\"can_swap: {can_swap}; p_empty: {p_empty}; p_symbol: {p_symbol}\", can_swap=can_swap, p_empty=p_empty, p_symbol=p_symbol)\n",
    "\n",
    "            col_v = jax.lax.cond(\n",
    "                can_swap,\n",
    "                lambda: col_v.at[p_empty]\n",
    "                .set(p_symbol_val)\n",
    "                .at[p_symbol]\n",
    "                .set(p_empty_val),\n",
    "                lambda: col_v,\n",
    "            )\n",
    "            return p_empty, p_symbol, col_v\n",
    "\n",
    "        p_empty = D_MAX  # get the index of the first empty cell from the bottom\n",
    "        p_symbol = D_MAX  # get the index of the first non-empty cell from the bottom\n",
    "\n",
    "        _, _, col_v = jax.lax.while_loop(cond_fn, body_fn, (p_empty, p_symbol, col_v))\n",
    "        return col_v\n",
    "\n",
    "    processed_cols = jax.vmap(process_column)(grid.T)\n",
    "    # col_v = process_column(grid.at[:, -1].get())\n",
    "    # print(col_v)\n",
    "    # processed_cols = grid.at[:, -1].set(col_v)\n",
    "    return processed_cols.T"
   ]
  },
  {
   "cell_type": "code",
   "execution_count": 91,
   "metadata": {},
   "outputs": [
    {
     "data": {
      "image/png": "[encoded data removed]",
      "text/plain": [
       "<Figure size 640x480 with 1 Axes>"
      ]
     },
     "metadata": {},
     "output_type": "display_data"
    }
   ],
   "source": [
    "grid_collapsed = collapse_grid(grid)\n",
    "# grid = jax.jit(collapse_grid)(grid)\n",
    "plot_grid(grid_collapsed, plt.gca())"
   ]
  },
  {
   "cell_type": "code",
   "execution_count": 89,
   "metadata": {},
   "outputs": [
    {
     "data": {
      "image/png": "[encoded data removed]",
      "text/plain": [
       "<Figure size 640x480 with 1 Axes>"
      ]
     },
     "metadata": {},
     "output_type": "display_data"
    }
   ],
   "source": [
    "def refill_grid(key, grid, k, mask):\n",
    "    key, subkey = jax.random.split(key)\n",
    "    random_grid = generate_random_grid(subkey, k, mask)\n",
    "    return jnp.where(grid == 0, random_grid, grid)\n",
    "\n",
    "\n",
    "grid_new = jax.jit(refill_grid)(key, grid, 4, mask)\n",
    "plot_grid(grid_new, plt.gca())"
   ]
  },
  {
   "cell_type": "code",
   "execution_count": 254,
   "metadata": {},
   "outputs": [],
   "source": [
    "def __translate_row(grid, row_idx, direction):\n",
    "    row_v = grid.at[row_idx, :].get()\n",
    "    row_v = jnp.roll(row_v, direction)\n",
    "    row_v = jax.lax.cond(\n",
    "        direction > 0, lambda: row_v.at[0].set(-1), lambda: row_v.at[-1].set(-1)\n",
    "    )\n",
    "    return grid.at[row_idx, :].set(row_v)\n",
    "\n",
    "\n",
    "def __translate_column(grid, col_idx, direction: int):\n",
    "    col_v = grid.at[:, col_idx].get()\n",
    "    col_v = jnp.roll(col_v, direction)\n",
    "    col_v = jax.lax.cond(\n",
    "        direction > 0, lambda: col_v.at[0].set(-1), lambda: col_v.at[-1].set(-1)\n",
    "    )\n",
    "    return grid.at[:, col_idx].set(col_v)\n",
    "\n",
    "\n",
    "def __reapply_mask(grid, mask):\n",
    "    return grid * jnp.logical_xor(grid, mask) - mask\n",
    "\n",
    "\n",
    "def __get_translated_grids_tuple(grid, mask):\n",
    "    grid_new_down = jax.vmap(__translate_column, in_axes=(None, 0, None))(\n",
    "        grid, jnp.arange(D_MAX), -1\n",
    "    )\n",
    "    grid_new_up = jax.vmap(__translate_column, in_axes=(None, 0, None))(\n",
    "        grid, jnp.arange(D_MAX), 1\n",
    "    )\n",
    "    grid_new_right = jax.vmap(__translate_row, in_axes=(None, 0, None))(\n",
    "        grid, jnp.arange(D_MAX), -1\n",
    "    )\n",
    "    grid_new_left = jax.vmap(__translate_row, in_axes=(None, 0, None))(\n",
    "        grid, jnp.arange(D_MAX), 1\n",
    "    )\n",
    "\n",
    "    # grid_new_down = __reapply_mask(grid_new_down, mask)\n",
    "    # grid_new_up = __reapply_mask(grid_new_up, mask)\n",
    "    # grid_new_right = __reapply_mask(grid_new_right, mask)\n",
    "    # grid_new_left = __reapply_mask(grid_new_left, mask)\n",
    "\n",
    "    return grid_new_down, grid_new_up, grid_new_right, grid_new_left"
   ]
  },
  {
   "cell_type": "code",
   "execution_count": 255,
   "metadata": {},
   "outputs": [
    {
     "name": "stderr",
     "output_type": "stream",
     "text": [
      "9it [00:00, 40.19it/s]\n"
     ]
    },
    {
     "data": {
      "image/png": "[encoded data removed]",
      "text/plain": [
       "<Figure size 1200x1600 with 36 Axes>"
      ]
     },
     "metadata": {},
     "output_type": "display_data"
    }
   ],
   "source": [
    "grid_new_down, grid_new_up, grid_new_right, grid_new_left = jax.jit(\n",
    "    __get_translated_grids_tuple\n",
    ")(grid, mask)\n",
    "\n",
    "grids = jnp.concatenate(\n",
    "    (grid_new_down, grid_new_up, grid_new_left, grid_new_right), axis=0\n",
    ")\n",
    "grids = jax.vmap(__reapply_mask, in_axes=(0, None))(grids, mask)\n",
    "\n",
    "fig, axs = plt.subplots(D_MAX, 4, figsize=(12, 16))\n",
    "for i, (ax0, ax1, ax2, ax3) in tqdm(enumerate(axs)):\n",
    "    plot_grid(grids[0 + i], ax0, vmin=-1, vmax=4)\n",
    "    plot_grid(grids[9 * 1 + i], ax1, vmin=-1, vmax=4)\n",
    "    plot_grid(grids[9 * 2 + i], ax2, vmin=-1, vmax=4)\n",
    "    plot_grid(grids[9 * 3 + i], ax3, vmin=-1, vmax=4)\n",
    "\n",
    "plt.tight_layout()\n",
    "plt.show()"
   ]
  },
  {
   "cell_type": "code",
   "execution_count": 256,
   "metadata": {},
   "outputs": [],
   "source": [
    "def check_no_matches(grid, mask):\n",
    "    grids = jnp.concatenate(__get_translated_grids_tuple(grid, mask), axis=0)\n",
    "    matches = jax.vmap(find_matches)(grids)\n",
    "    return jnp.all(jnp.sum(matches, axis=(1, 2)) == 0)"
   ]
  },
  {
   "cell_type": "code",
   "execution_count": 257,
   "metadata": {},
   "outputs": [
    {
     "data": {
      "text/plain": [
       "Array(False, dtype=bool)"
      ]
     },
     "execution_count": 257,
     "metadata": {},
     "output_type": "execute_result"
    }
   ],
   "source": [
    "jax.jit(check_no_matches)(grid_no_matches, mask)"
   ]
  },
  {
   "cell_type": "code",
   "execution_count": 258,
   "metadata": {},
   "outputs": [],
   "source": [
    "def generate_new_grid_if_no_matches(key, grid, k, mask):\n",
    "    return jax.lax.cond(\n",
    "        check_no_matches(grid, mask),\n",
    "        lambda: generate_grid(key, grid.shape, k, mask),\n",
    "        lambda: grid,\n",
    "    )"
   ]
  }
 ],
 "metadata": {
  "colab": {
   "provenance": []
  },
  "kernelspec": {
   "display_name": "inno-ml",
   "language": "python",
   "name": "python3"
  },
  "language_info": {
   "codemirror_mode": {
    "name": "ipython",
    "version": 3
   },
   "file_extension": ".py",
   "mimetype": "text/x-python",
   "name": "python",
   "nbconvert_exporter": "python",
   "pygments_lexer": "ipython3",
   "version": "3.10.15"
  }
 },
 "nbformat": 4,
 "nbformat_minor": 0
}
