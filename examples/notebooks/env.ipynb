{
 "cells": [
  {
   "cell_type": "code",
   "execution_count": 1,
   "id": "e9c3e0d4",
   "metadata": {},
   "outputs": [],
   "source": [
    "import sys\n",
    "\n",
    "sys.path.append(\"../src\")\n",
    "\n",
    "\n",
    "import jax"
   ]
  },
  {
   "cell_type": "code",
   "execution_count": 2,
   "id": "cc919ba6",
   "metadata": {},
   "outputs": [],
   "source": [
    "jax.config.update(\"jax_platform_name\", \"cpu\")  # Force CPU-only mode"
   ]
  },
  {
   "cell_type": "code",
   "execution_count": 3,
   "id": "7f6620d2",
   "metadata": {},
   "outputs": [],
   "source": [
    "# !pip install gymnax"
   ]
  },
  {
   "cell_type": "code",
   "execution_count": 4,
   "id": "86c4a69d",
   "metadata": {},
   "outputs": [
    {
     "name": "stderr",
     "output_type": "stream",
     "text": [
      "WARNING:2025-04-23 23:51:28,402:jax._src.xla_bridge:997: Platform 'METAL' is experimental and not all JAX functionality may be correctly supported!\n"
     ]
    },
    {
     "name": "stdout",
     "output_type": "stream",
     "text": [
      "Metal device set to: Apple M3\n",
      "\n",
      "systemMemory: 8.00 GB\n",
      "maxCacheSize: 2.67 GB\n",
      "\n"
     ]
    },
    {
     "name": "stderr",
     "output_type": "stream",
     "text": [
      "WARNING: All log messages before absl::InitializeLog() is called are written to STDERR\n",
      "W0000 00:00:1745441488.403257 52784738 mps_client.cc:510] WARNING: JAX Apple GPU support is experimental and not all JAX functionality is correctly supported!\n",
      "I0000 00:00:1745441488.420106 52784738 service.cc:145] XLA service 0x15b0b23a0 initialized for platform METAL (this does not guarantee that XLA will be used). Devices:\n",
      "I0000 00:00:1745441488.420116 52784738 service.cc:153]   StreamExecutor device (0): Metal, <undefined>\n",
      "I0000 00:00:1745441488.421123 52784738 mps_client.cc:406] Using Simple allocator.\n",
      "I0000 00:00:1745441488.421130 52784738 mps_client.cc:384] XLA backend will use up to 5726158848 bytes on device 0 for SimpleAllocator.\n"
     ]
    },
    {
     "data": {
      "text/plain": [
       "EnvParams(max_steps_in_episode=100, grid_params=MatchThreeGameGridParams(num_symbols=4, mask=Array([[0., 0., 0., 0., 0., 0., 0., 0., 0.],\n",
       "       [0., 0., 0., 0., 0., 0., 0., 0., 0.],\n",
       "       [0., 0., 0., 0., 0., 0., 0., 0., 0.],\n",
       "       [0., 0., 0., 0., 0., 0., 0., 0., 0.],\n",
       "       [0., 0., 0., 0., 0., 0., 0., 0., 0.],\n",
       "       [0., 0., 0., 0., 0., 0., 0., 0., 0.],\n",
       "       [0., 0., 0., 0., 0., 0., 0., 0., 0.],\n",
       "       [0., 0., 0., 0., 0., 0., 0., 0., 0.],\n",
       "       [0., 0., 0., 0., 0., 0., 0., 0., 0.]], dtype=float32)), grid_size=(9, 9))"
      ]
     },
     "execution_count": 4,
     "metadata": {},
     "output_type": "execute_result"
    }
   ],
   "source": [
    "from match_three.env import EnvParams, MatchThree\n",
    "\n",
    "params = EnvParams()\n",
    "env = MatchThree(params)\n",
    "\n",
    "env.default_params"
   ]
  },
  {
   "cell_type": "code",
   "execution_count": 5,
   "id": "92e3b8a3",
   "metadata": {},
   "outputs": [],
   "source": [
    "import jax.numpy as jnp\n",
    "import matplotlib.pyplot as plt\n",
    "\n",
    "\n",
    "def plot_grid(grid, ax, matches=None, vmin=None, vmax=None):\n",
    "    ax.grid(color=\"white\", linewidth=2)\n",
    "    ax.set_xticks(jnp.arange(-0.5, 9.5, 1), [])\n",
    "    ax.set_yticks(jnp.arange(-0.5, 9.5, 1), [])\n",
    "\n",
    "    # TODO: this should be tested\n",
    "    if matches is not None:\n",
    "        # Highlight matched cells with red borders\n",
    "        for i in range(len(matches)):\n",
    "            for j in range(len(matches[0])):\n",
    "                if matches[i, j]:\n",
    "                    # Draw a red rectangle around the matched cell\n",
    "                    ax.add_patch(\n",
    "                        plt.Rectangle(\n",
    "                            (j, i),\n",
    "                            1,\n",
    "                            1,\n",
    "                            fill=False,\n",
    "                            edgecolor=\"red\",\n",
    "                            lw=3,  # Border thickness\n",
    "                        )\n",
    "                    )\n",
    "\n",
    "    ax.imshow(grid, vmin=vmin, vmax=vmax)"
   ]
  },
  {
   "cell_type": "code",
   "execution_count": 6,
   "id": "28ebd303",
   "metadata": {},
   "outputs": [
    {
     "data": {
      "image/png": "[encoded data removed]",
      "text/plain": [
       "<Figure size 640x480 with 1 Axes>"
      ]
     },
     "metadata": {},
     "output_type": "display_data"
    }
   ],
   "source": [
    "key = jax.random.PRNGKey(0)\n",
    "\n",
    "key, subkey = jax.random.split(key)\n",
    "obs, state = jax.jit(env.reset_env)(subkey, params)\n",
    "\n",
    "plot_grid(obs.grid, plt.gca())"
   ]
  },
  {
   "cell_type": "code",
   "execution_count": 7,
   "id": "1f57e056",
   "metadata": {},
   "outputs": [
    {
     "name": "stdout",
     "output_type": "stream",
     "text": [
      "[[1 1 3 1 4 2 4 3 4]\n",
      " [3 3 2 4 1 3 2 3 1]\n",
      " [2 2 3 2 2 4 4 2 1]\n",
      " [2 4 1 3 3 1 1 4 4]\n",
      " [4 3 1 3 3 2 4 2 2]\n",
      " [2 3 2 4 1 4 3 4 2]\n",
      " [4 1 3 1 1 4 3 1 4]\n",
      " [4 4 3 1 3 2 4 4 3]\n",
      " [3 2 1 2 4 2 1 4 1]]\n"
     ]
    }
   ],
   "source": [
    "print(obs.grid)"
   ]
  },
  {
   "cell_type": "code",
   "execution_count": 12,
   "id": "9cb2f068",
   "metadata": {},
   "outputs": [
    {
     "name": "stdout",
     "output_type": "stream",
     "text": [
      "1\n",
      "1\n",
      "3\n",
      "Traced<ShapedArray(int32[9,9])>with<DynamicJaxprTrace>\n"
     ]
    },
    {
     "data": {
      "image/png": "[encoded data removed]",
      "text/plain": [
       "<Figure size 640x480 with 1 Axes>"
      ]
     },
     "metadata": {},
     "output_type": "display_data"
    },
    {
     "name": "stdout",
     "output_type": "stream",
     "text": [
      "5 6.0\n"
     ]
    }
   ],
   "source": [
    "key, subkey = jax.random.split(key)\n",
    "\n",
    "print(obs.grid[0, 0])\n",
    "print(obs.grid[0, 1])\n",
    "print(obs.grid[1, 0])\n",
    "\n",
    "# NOTE: this is a very good move. 42 blocks gone with 5 cascades.\n",
    "obs, state, reward, done = jax.jit(env.step_env)(\n",
    "    key=subkey, state=state, action=72 + 9 + 3, params=params\n",
    ")\n",
    "\n",
    "plot_grid(obs.grid, plt.gca())\n",
    "plt.show()\n",
    "print(state.time, reward)"
   ]
  },
  {
   "cell_type": "code",
   "execution_count": null,
   "id": "88a883ee",
   "metadata": {},
   "outputs": [],
   "source": []
  }
 ],
 "metadata": {
  "kernelspec": {
   "display_name": "inno-ml",
   "language": "python",
   "name": "python3"
  },
  "language_info": {
   "codemirror_mode": {
    "name": "ipython",
    "version": 3
   },
   "file_extension": ".py",
   "mimetype": "text/x-python",
   "name": "python",
   "nbconvert_exporter": "python",
   "pygments_lexer": "ipython3",
   "version": "3.10.14"
  }
 },
 "nbformat": 4,
 "nbformat_minor": 5
}
